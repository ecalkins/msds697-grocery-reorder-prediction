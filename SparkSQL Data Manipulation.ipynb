{
 "cells": [
  {
   "cell_type": "code",
   "execution_count": 5,
   "metadata": {
    "ExecuteTime": {
     "end_time": "2019-01-17T06:28:40.351389Z",
     "start_time": "2019-01-17T06:28:40.343356Z"
    }
   },
   "outputs": [],
   "source": [
    "from pyspark import SparkContext, SparkConf\n",
    "from pyspark.sql import SparkSession\n",
    "from pyspark.sql.types import *\n",
    "from pyspark.sql.functions import asc, desc, dense_rank, col\n",
    "from pyspark.sql.window import Window"
   ]
  },
  {
   "cell_type": "code",
   "execution_count": 6,
   "metadata": {
    "ExecuteTime": {
     "end_time": "2019-01-17T05:37:01.032537Z",
     "start_time": "2019-01-17T05:36:44.722897Z"
    }
   },
   "outputs": [],
   "source": [
    "sc = SparkContext.getOrCreate()\n",
    "ss = SparkSession.builder.getOrCreate()"
   ]
  },
  {
   "cell_type": "code",
   "execution_count": 7,
   "metadata": {
    "ExecuteTime": {
     "end_time": "2019-01-17T02:54:36.666344Z",
     "start_time": "2019-01-17T02:54:36.653263Z"
    }
   },
   "outputs": [],
   "source": [
    "schema = StructType([StructField(\"order_id\", IntegerType(), True),\n",
    "StructField(\"user_id\", IntegerType(), True),\n",
    "StructField(\"eval_set\", StringType(), True),\n",
    "StructField(\"order_number\", IntegerType(), True),\n",
    "StructField(\"order_dow\", IntegerType(), True),\n",
    "StructField(\"order_hour_of_day\", IntegerType(), True),\n",
    "StructField(\"days_since_prior_order\", IntegerType(), True),\n",
    "StructField(\"product_id\", IntegerType(), True),\n",
    "StructField(\"add_to_cart_order\", IntegerType(), True),\n",
    "StructField(\"reordered\", IntegerType(), True),\n",
    "StructField(\"product_name\", StringType(), True),\n",
    "StructField(\"aisle_id\", IntegerType(), True),\n",
    "StructField(\"department_id\", IntegerType(), True),\n",
    "StructField(\"department\", StringType(), True),\n",
    "StructField(\"aisle\", StringType(), True)\n",
    "])\n",
    "# did not work with ss.read.csv\n",
    "# inferSchema accomplishes the same col types"
   ]
  },
  {
   "cell_type": "code",
   "execution_count": 9,
   "metadata": {
    "ExecuteTime": {
     "end_time": "2019-01-17T05:37:28.405790Z",
     "start_time": "2019-01-17T05:37:01.032537Z"
    }
   },
   "outputs": [],
   "source": [
    "df = ss.read.csv('../shardonnay697.csv', header=True, inferSchema=True)"
   ]
  },
  {
   "cell_type": "code",
   "execution_count": 10,
   "metadata": {
    "ExecuteTime": {
     "end_time": "2019-01-17T05:37:28.425755Z",
     "start_time": "2019-01-17T05:37:28.405790Z"
    }
   },
   "outputs": [
    {
     "name": "stdout",
     "output_type": "stream",
     "text": [
      "root\n",
      " |-- _c0: integer (nullable = true)\n",
      " |-- order_id: integer (nullable = true)\n",
      " |-- user_id: integer (nullable = true)\n",
      " |-- eval_set: string (nullable = true)\n",
      " |-- order_number: integer (nullable = true)\n",
      " |-- order_dow: integer (nullable = true)\n",
      " |-- order_hour_of_day: integer (nullable = true)\n",
      " |-- days_since_prior_order: double (nullable = true)\n",
      " |-- product_id: double (nullable = true)\n",
      " |-- add_to_cart_order: double (nullable = true)\n",
      " |-- reordered: double (nullable = true)\n",
      " |-- product_name: string (nullable = true)\n",
      " |-- aisle_id: double (nullable = true)\n",
      " |-- department_id: double (nullable = true)\n",
      " |-- department: string (nullable = true)\n",
      " |-- aisle: string (nullable = true)\n",
      "\n"
     ]
    }
   ],
   "source": [
    "df.printSchema()"
   ]
  },
  {
   "cell_type": "markdown",
   "metadata": {},
   "source": [
    "### Reference Stats"
   ]
  },
  {
   "cell_type": "code",
   "execution_count": 11,
   "metadata": {
    "ExecuteTime": {
     "end_time": "2019-01-17T06:43:40.351625Z",
     "start_time": "2019-01-17T06:43:11.458997Z"
    }
   },
   "outputs": [
    {
     "data": {
      "text/plain": [
       "470"
      ]
     },
     "execution_count": 11,
     "metadata": {},
     "output_type": "execute_result"
    }
   ],
   "source": [
    "# Number of unique prior user_id-product_id combinations\n",
    "df.filter(\"eval_set == 'prior'\").groupby('user_id', 'product_id').count().count()"
   ]
  },
  {
   "cell_type": "code",
   "execution_count": 12,
   "metadata": {
    "ExecuteTime": {
     "end_time": "2019-01-17T05:38:39.850511Z",
     "start_time": "2019-01-17T05:38:24.428363Z"
    }
   },
   "outputs": [
    {
     "data": {
      "text/plain": [
       "104"
      ]
     },
     "execution_count": 12,
     "metadata": {},
     "output_type": "execute_result"
    }
   ],
   "source": [
    "# Number of train (order_id-product_id) rows\n",
    "df.filter(\"eval_set == 'train'\").count()"
   ]
  },
  {
   "cell_type": "code",
   "execution_count": 13,
   "metadata": {
    "ExecuteTime": {
     "end_time": "2019-01-17T05:38:55.525370Z",
     "start_time": "2019-01-17T05:38:39.850511Z"
    }
   },
   "outputs": [
    {
     "data": {
      "text/plain": [
       "894"
      ]
     },
     "execution_count": 13,
     "metadata": {},
     "output_type": "execute_result"
    }
   ],
   "source": [
    "# Number of prior (order_id-product_id) rows\n",
    "df.filter(\"eval_set == 'prior'\").count()"
   ]
  },
  {
   "cell_type": "markdown",
   "metadata": {},
   "source": [
    "### Constructing Target Variable"
   ]
  },
  {
   "cell_type": "code",
   "execution_count": 14,
   "metadata": {
    "ExecuteTime": {
     "end_time": "2019-01-17T06:57:23.875715Z",
     "start_time": "2019-01-17T06:57:23.839714Z"
    }
   },
   "outputs": [],
   "source": [
    "last_order = df.filter(\"eval_set == 'train'\").select('user_id', 'product_id') \\\n",
    "    .withColumnRenamed('user_id','user_id2') \\\n",
    "    .withColumnRenamed('product_id','product_id2')\n",
    "\n",
    "final_df = df.filter(\"eval_set == 'prior'\").select(\n",
    "    'user_id', 'product_id').distinct()"
   ]
  },
  {
   "cell_type": "code",
   "execution_count": 15,
   "metadata": {
    "ExecuteTime": {
     "end_time": "2019-01-17T06:58:29.009907Z",
     "start_time": "2019-01-17T06:57:39.012395Z"
    }
   },
   "outputs": [
    {
     "name": "stdout",
     "output_type": "stream",
     "text": [
      "+-------+----------+--------+-----------+\n",
      "|user_id|product_id|user_id2|product_id2|\n",
      "+-------+----------+--------+-----------+\n",
      "|      7|   40852.0|       7|    40852.0|\n",
      "|      7|    8277.0|    null|       null|\n",
      "|      7|   27156.0|    null|       null|\n",
      "|      8|   34358.0|    null|       null|\n",
      "|      2|    2002.0|    null|       null|\n",
      "|      2|   16521.0|    null|       null|\n",
      "|     11|   47912.0|    null|       null|\n",
      "|      3|   14992.0|    null|       null|\n",
      "|     10|   40706.0|    null|       null|\n",
      "|      2|   47766.0|    null|       null|\n",
      "|      8|   39812.0|    null|       null|\n",
      "|     10|   32299.0|    null|       null|\n",
      "|      9|     311.0|    null|       null|\n",
      "|      3|   40604.0|    null|       null|\n",
      "|      3|   48523.0|    null|       null|\n",
      "|      5|   24535.0|    null|       null|\n",
      "|      9|    8952.0|    null|       null|\n",
      "|     10|   44359.0|    null|       null|\n",
      "|      2|   19240.0|    null|       null|\n",
      "|      8|   39110.0|    null|       null|\n",
      "+-------+----------+--------+-----------+\n",
      "only showing top 20 rows\n",
      "\n"
     ]
    }
   ],
   "source": [
    "#join leaves out new products never ordered before in train order\n",
    "df3 = final_df \\\n",
    "    .join(last_order, \n",
    "          on=(final_df.user_id == last_order.user_id2) \n",
    "          & (final_df.product_id == last_order.product_id2), how=\"left\")\n",
    "df3.show()"
   ]
  },
  {
   "cell_type": "code",
   "execution_count": 16,
   "metadata": {
    "ExecuteTime": {
     "end_time": "2019-01-17T06:59:18.218237Z",
     "start_time": "2019-01-17T06:58:29.009907Z"
    }
   },
   "outputs": [
    {
     "name": "stdout",
     "output_type": "stream",
     "text": [
      "+-------+----------+------------+\n",
      "|user_id|product_id|ordered_true|\n",
      "+-------+----------+------------+\n",
      "|      7|   40852.0|        true|\n",
      "|      7|    8277.0|       false|\n",
      "|      7|   27156.0|       false|\n",
      "|      8|   34358.0|       false|\n",
      "|      2|    2002.0|       false|\n",
      "|      2|   16521.0|       false|\n",
      "|     11|   47912.0|       false|\n",
      "|      3|   14992.0|       false|\n",
      "|     10|   40706.0|       false|\n",
      "|      2|   47766.0|       false|\n",
      "|      8|   39812.0|       false|\n",
      "|     10|   32299.0|       false|\n",
      "|      9|     311.0|       false|\n",
      "|      3|   40604.0|       false|\n",
      "|      3|   48523.0|       false|\n",
      "|      5|   24535.0|       false|\n",
      "|      9|    8952.0|       false|\n",
      "|     10|   44359.0|       false|\n",
      "|      2|   19240.0|       false|\n",
      "|      8|   39110.0|       false|\n",
      "+-------+----------+------------+\n",
      "only showing top 20 rows\n",
      "\n"
     ]
    }
   ],
   "source": [
    "df4 = df3.withColumn('ordered_true', df3.user_id2.isNotNull()) \\\n",
    "    .select('user_id','product_id','ordered_true')\n",
    "df4.show()"
   ]
  },
  {
   "cell_type": "markdown",
   "metadata": {},
   "source": [
    "### Number of times a user ordered a product"
   ]
  },
  {
   "cell_type": "code",
   "execution_count": 17,
   "metadata": {
    "ExecuteTime": {
     "end_time": "2019-01-17T06:51:19.966536Z",
     "start_time": "2019-01-17T06:51:19.946569Z"
    }
   },
   "outputs": [],
   "source": [
    "num_prod_ord = df.filter(\"eval_set == 'prior'\") \\\n",
    "    .groupby('user_id', 'product_id') \\\n",
    "    .count()"
   ]
  },
  {
   "cell_type": "code",
   "execution_count": 27,
   "metadata": {
    "ExecuteTime": {
     "end_time": "2019-01-17T06:51:51.287085Z",
     "start_time": "2019-01-17T06:51:22.109348Z"
    }
   },
   "outputs": [
    {
     "name": "stdout",
     "output_type": "stream",
     "text": [
      "+-------+----------+-----------+\n",
      "|user_id|product_id|usr_prod_ct|\n",
      "+-------+----------+-----------+\n",
      "|      7|   40852.0|         13|\n",
      "|      7|   37602.0|         12|\n",
      "|      7|   17638.0|         11|\n",
      "|      1|     196.0|         10|\n",
      "|      1|   12427.0|         10|\n",
      "|      3|   39190.0|         10|\n",
      "|      7|   21137.0|         10|\n",
      "|      3|   47766.0|          9|\n",
      "|      2|   32792.0|          9|\n",
      "|      1|   10258.0|          9|\n",
      "+-------+----------+-----------+\n",
      "only showing top 10 rows\n",
      "\n"
     ]
    }
   ],
   "source": [
    "# Sample output\n",
    "f1 = num_prod_ord.sort(desc('count')).withColumnRenamed('count','usr_prod_ct')\n",
    "f1.show(10)"
   ]
  },
  {
   "cell_type": "markdown",
   "metadata": {},
   "source": [
    "### Number of times user ordered products in last 5 orders"
   ]
  },
  {
   "cell_type": "code",
   "execution_count": 36,
   "metadata": {
    "ExecuteTime": {
     "end_time": "2019-01-17T07:29:01.050023Z",
     "start_time": "2019-01-17T07:26:33.925311Z"
    }
   },
   "outputs": [
    {
     "name": "stdout",
     "output_type": "stream",
     "text": [
      "+--------+-----------+---------+------------+\n",
      "|user_id2|product_id2|new_count|ordered_true|\n",
      "+--------+-----------+---------+------------+\n",
      "|       7|    40852.0|        3|        true|\n",
      "|       7|     8277.0|        1|       false|\n",
      "|       7|    27156.0|        1|       false|\n",
      "|       8|    34358.0|        2|       false|\n",
      "|       2|     2002.0|        2|       false|\n",
      "|       2|    16521.0|        1|       false|\n",
      "|      11|    47912.0|        1|       false|\n",
      "|    null|       null|     null|       false|\n",
      "|      10|    40706.0|        3|       false|\n",
      "|    null|       null|     null|       false|\n",
      "|       8|    39812.0|        1|       false|\n",
      "|      10|    32299.0|        1|       false|\n",
      "|       9|      311.0|        1|       false|\n",
      "|    null|       null|     null|       false|\n",
      "|       3|    48523.0|        2|       false|\n",
      "|       5|    24535.0|        3|       false|\n",
      "|       9|     8952.0|        1|       false|\n",
      "|      10|    44359.0|        1|       false|\n",
      "|       2|    19240.0|        1|       false|\n",
      "|       8|    39110.0|        1|       false|\n",
      "+--------+-----------+---------+------------+\n",
      "only showing top 20 rows\n",
      "\n"
     ]
    }
   ],
   "source": [
    "df4.cache()\n",
    "\n",
    "window = Window.partitionBy('user_id') \\\n",
    "                .orderBy(desc('order_number')) \\\n",
    "                .rowsBetween(Window.unboundedPreceding, Window.currentRow)\n",
    "\n",
    "num_prod_ordl5 = df.filter(\"eval_set == 'prior'\") \\\n",
    "    .select('user_id', 'product_id', 'order_number',  \n",
    "          dense_rank().over(window).alias('rank')) \\\n",
    "                .filter(col('rank') <= 5) \\\n",
    "                .groupby('user_id', 'product_id') \\\n",
    "                .count()\n",
    "\n",
    "num_prod_ordl5.cache()\n",
    "num_prod_ordl5 = num_prod_ordl5 \\\n",
    "    .withColumnRenamed('user_id','user_id2') \\\n",
    "    .withColumnRenamed('product_id','product_id2') \\\n",
    "    .withColumnRenamed('count','new_count')\n",
    "\n",
    "num_prod_ordl5 = df4.join(num_prod_ordl5, \n",
    "          on=(df4.user_id == num_prod_ordl5.user_id2) \n",
    "          & (df4.product_id == num_prod_ordl5.product_id2), how=\"left\")\n",
    "\n",
    "f2 = num_prod_ordl5.select('user_id2','product_id2','new_count','ordered_true')\n",
    "f2.show()"
   ]
  },
  {
   "cell_type": "markdown",
   "metadata": {},
   "source": [
    "Median Days Since last order\n"
   ]
  },
  {
   "cell_type": "code",
   "execution_count": 41,
   "metadata": {},
   "outputs": [
    {
     "name": "stdout",
     "output_type": "stream",
     "text": [
      "+-------+----------+-----------+---------+------------+---------------------------+\n",
      "|user_id|product_id|usr_prod_ct|new_count|ordered_true|avg(days_since_prior_order)|\n",
      "+-------+----------+-----------+---------+------------+---------------------------+\n",
      "|      7|    8277.0|          3|        1|       false|         11.666666666666666|\n",
      "|      7|   27156.0|          1|        1|       false|                        7.0|\n",
      "|      7|   40852.0|         13|        3|        true|         12.285714285714286|\n",
      "|      8|   34358.0|          2|        2|       false|                       30.0|\n",
      "|      2|    2002.0|          4|        2|       false|                      17.75|\n",
      "|      2|   16521.0|          1|        1|       false|                       30.0|\n",
      "|     11|   47912.0|          1|        1|       false|                       null|\n",
      "|      3|   14992.0|          2|     null|        null|                        7.0|\n",
      "|     10|   40706.0|          3|        3|       false|         16.333333333333332|\n",
      "|      2|   47766.0|          4|     null|        null|                        7.0|\n",
      "|      8|   39812.0|          1|        1|       false|                       null|\n",
      "|     10|   32299.0|          1|        1|       false|                       30.0|\n",
      "|      9|     311.0|          1|        1|       false|                       null|\n",
      "|      3|   40604.0|          1|     null|        null|                        9.0|\n",
      "|      3|   48523.0|          2|        2|       false|                        7.0|\n",
      "|      5|   24535.0|          3|        3|       false|                       15.0|\n",
      "|      9|    8952.0|          1|        1|       false|                       null|\n",
      "|     10|   44359.0|          1|        1|       false|                       12.0|\n",
      "|      2|   19240.0|          1|        1|       false|                       28.0|\n",
      "|      8|   39110.0|          1|        1|       false|                       null|\n",
      "+-------+----------+-----------+---------+------------+---------------------------+\n",
      "only showing top 20 rows\n",
      "\n"
     ]
    }
   ],
   "source": [
    "f3 = df.groupBy('user_id', 'product_id').avg('days_since_prior_order').withColumnRenamed('user_id','user_id3').withColumnRenamed('product_id','product_id3')\n",
    "#f3.show()\n",
    "\n",
    "f1.join(f2, on=(f1.user_id == f2.user_id2) & (f1.product_id == f2.product_id2), how=\"left\") \\\n",
    ".join(f3, on=(f1.user_id == f3.user_id3) & (f1.product_id == f3.product_id3), how=\"left\") \\\n",
    ".drop('user_id2','product_id2', 'user_id3','product_id3').show()\n",
    "\n",
    "\n"
   ]
  },
  {
   "cell_type": "code",
   "execution_count": null,
   "metadata": {},
   "outputs": [],
   "source": []
  }
 ],
 "metadata": {
  "kernelspec": {
   "display_name": "Python 3",
   "language": "python",
   "name": "python3"
  },
  "language_info": {
   "codemirror_mode": {
    "name": "ipython",
    "version": 3
   },
   "file_extension": ".py",
   "mimetype": "text/x-python",
   "name": "python",
   "nbconvert_exporter": "python",
   "pygments_lexer": "ipython3",
   "version": "3.6.6"
  }
 },
 "nbformat": 4,
 "nbformat_minor": 2
}
