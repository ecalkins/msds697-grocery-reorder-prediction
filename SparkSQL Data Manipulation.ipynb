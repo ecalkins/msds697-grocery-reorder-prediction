{
 "cells": [
  {
   "cell_type": "code",
   "execution_count": 1,
   "metadata": {
    "ExecuteTime": {
     "end_time": "2019-01-16T08:08:26.871487Z",
     "start_time": "2019-01-16T08:08:19.214176Z"
    }
   },
   "outputs": [],
   "source": [
    "from pyspark import SparkContext, SparkConf\n",
    "from pyspark.sql import SparkSession\n",
    "from pyspark.sql.types import *"
   ]
  },
  {
   "cell_type": "code",
   "execution_count": null,
   "metadata": {},
   "outputs": [],
   "source": [
    "sc = SparkContext.getOrCreate()\n",
    "ss = SparkSession.builder.getOrCreate()"
   ]
  },
  {
   "cell_type": "code",
   "execution_count": 2,
   "metadata": {
    "ExecuteTime": {
     "end_time": "2019-01-16T08:08:26.884451Z",
     "start_time": "2019-01-16T08:08:26.874481Z"
    }
   },
   "outputs": [],
   "source": [
    "schema = StructType([StructField(\"order_id\", IntegerType(), True),\n",
    "StructField(\"user_id\", IntegerType(), True),\n",
    "StructField(\"eval_set\", StringType(), True),\n",
    "StructField(\"order_number\", IntegerType(), True),\n",
    "StructField(\"order_dow\", IntegerType(), True),\n",
    "StructField(\"order_hour_of_day\", IntegerType(), True),\n",
    "StructField(\"days_since_prior_order\", IntegerType(), True),\n",
    "StructField(\"product_id\", IntegerType(), True),\n",
    "StructField(\"add_to_cart_order\", IntegerType(), True),\n",
    "StructField(\"reordered\", IntegerType(), True),\n",
    "StructField(\"product_name\", StringType(), True),\n",
    "StructField(\"aisle_id\", IntegerType(), True),\n",
    "StructField(\"department_id\", IntegerType(), True),\n",
    "StructField(\"department\", StringType(), True),\n",
    "StructField(\"aisle\", StringType(), True)\n",
    "])\n",
    "# did not work with ss.read.csv\n",
    "# inferSchema accomplishes the same col types"
   ]
  },
  {
   "cell_type": "code",
   "execution_count": 3,
   "metadata": {
    "ExecuteTime": {
     "end_time": "2019-01-16T08:08:52.959596Z",
     "start_time": "2019-01-16T08:08:26.886447Z"
    }
   },
   "outputs": [],
   "source": [
    "df = ss.read.csv('consolidated_df.csv', header=True, inferSchema=True)"
   ]
  },
  {
   "cell_type": "code",
   "execution_count": 4,
   "metadata": {
    "ExecuteTime": {
     "end_time": "2019-01-16T08:08:52.983532Z",
     "start_time": "2019-01-16T08:08:52.962587Z"
    }
   },
   "outputs": [
    {
     "name": "stdout",
     "output_type": "stream",
     "text": [
      "root\n",
      " |-- order_id: integer (nullable = true)\n",
      " |-- user_id: integer (nullable = true)\n",
      " |-- eval_set: string (nullable = true)\n",
      " |-- order_number: integer (nullable = true)\n",
      " |-- order_dow: integer (nullable = true)\n",
      " |-- order_hour_of_day: integer (nullable = true)\n",
      " |-- days_since_prior_order: double (nullable = true)\n",
      " |-- product_id: double (nullable = true)\n",
      " |-- add_to_cart_order: double (nullable = true)\n",
      " |-- reordered: double (nullable = true)\n",
      " |-- product_name: string (nullable = true)\n",
      " |-- aisle_id: string (nullable = true)\n",
      " |-- department_id: string (nullable = true)\n",
      " |-- department: string (nullable = true)\n",
      " |-- aisle: string (nullable = true)\n",
      "\n"
     ]
    }
   ],
   "source": [
    "df.printSchema()"
   ]
  },
  {
   "cell_type": "markdown",
   "metadata": {},
   "source": [
    "### Number of times a user ordered a product"
   ]
  },
  {
   "cell_type": "code",
   "execution_count": 5,
   "metadata": {
    "ExecuteTime": {
     "end_time": "2019-01-16T08:09:20.603955Z",
     "start_time": "2019-01-16T08:08:52.986523Z"
    }
   },
   "outputs": [
    {
     "name": "stdout",
     "output_type": "stream",
     "text": [
      "+-------+----------+-----+\n",
      "|user_id|product_id|count|\n",
      "+-------+----------+-----+\n",
      "|     86|   45007.0|    1|\n",
      "|    435|     812.0|    1|\n",
      "|    685|   27966.0|    1|\n",
      "|   1015|   43065.0|    1|\n",
      "|   1073|     663.0|    1|\n",
      "|   1407|   43452.0|    1|\n",
      "|   1779|    6184.0|    1|\n",
      "|   2000|   32331.0|    1|\n",
      "|   2118|   39059.0|    1|\n",
      "|   2333|   17794.0|    1|\n",
      "|   2339|   28476.0|    1|\n",
      "|   2472|    4913.0|    1|\n",
      "|   2563|   19660.0|    1|\n",
      "|   2581|   17953.0|    1|\n",
      "|   2732|   28204.0|    1|\n",
      "|   2753|   36196.0|    1|\n",
      "|   3044|   14366.0|    1|\n",
      "|   3157|   24852.0|    1|\n",
      "|   3194|   31717.0|    1|\n",
      "|   3345|   36334.0|    1|\n",
      "+-------+----------+-----+\n",
      "only showing top 20 rows\n",
      "\n"
     ]
    }
   ],
   "source": [
    "df.filter(\"eval_set == 'train'\").groupby('user_id', 'product_id').count().show()"
   ]
  },
  {
   "cell_type": "markdown",
   "metadata": {},
   "source": [
    "### Constructing Target Variable"
   ]
  },
  {
   "cell_type": "code",
   "execution_count": 6,
   "metadata": {
    "ExecuteTime": {
     "end_time": "2019-01-16T08:09:20.665789Z",
     "start_time": "2019-01-16T08:09:20.605948Z"
    }
   },
   "outputs": [],
   "source": [
    "last_order = df.filter(\"eval_set == 'train'\").select('user_id', 'product_id') \\\n",
    "    .withColumnRenamed('user_id','user_id2') \\\n",
    "    .withColumnRenamed('product_id','product_id2')\n",
    "final_df = df.filter(\"eval_set == 'prior'\").select(\n",
    "    'user_id', 'product_id').distinct()"
   ]
  },
  {
   "cell_type": "code",
   "execution_count": 7,
   "metadata": {
    "ExecuteTime": {
     "end_time": "2019-01-16T08:10:12.870596Z",
     "start_time": "2019-01-16T08:09:20.667789Z"
    }
   },
   "outputs": [
    {
     "name": "stdout",
     "output_type": "stream",
     "text": [
      "+-------+----------+--------+-----------+\n",
      "|user_id|product_id|user_id2|product_id2|\n",
      "+-------+----------+--------+-----------+\n",
      "|      7|    8277.0|    null|       null|\n",
      "|      7|   27156.0|    null|       null|\n",
      "|      7|   40852.0|       7|    40852.0|\n",
      "|      8|   34358.0|    null|       null|\n",
      "|     14|   40540.0|    null|       null|\n",
      "|     18|   40723.0|    null|       null|\n",
      "|     27|    5322.0|    null|       null|\n",
      "|     31|   21131.0|    null|       null|\n",
      "|     31|   45104.0|    null|       null|\n",
      "|     32|   49478.0|    null|       null|\n",
      "|     38|   11078.0|    null|       null|\n",
      "|     41|   19678.0|    null|       null|\n",
      "|     42|    1263.0|    null|       null|\n",
      "|     52|   35561.0|    null|       null|\n",
      "|     58|   43115.0|    null|       null|\n",
      "|     61|    6187.0|    null|       null|\n",
      "|     63|   38061.0|    null|       null|\n",
      "|     71|   41408.0|    null|       null|\n",
      "|     79|   16616.0|      79|    16616.0|\n",
      "|     79|   28204.0|    null|       null|\n",
      "+-------+----------+--------+-----------+\n",
      "only showing top 20 rows\n",
      "\n"
     ]
    }
   ],
   "source": [
    "df3 = final_df \\\n",
    "    .join(last_order, \n",
    "          on=(final_df.user_id == last_order.user_id2) \n",
    "          & (final_df.product_id == last_order.product_id2), how=\"left\")\n",
    "df3.show()"
   ]
  },
  {
   "cell_type": "code",
   "execution_count": 8,
   "metadata": {
    "ExecuteTime": {
     "end_time": "2019-01-16T08:11:06.093174Z",
     "start_time": "2019-01-16T08:10:12.872590Z"
    }
   },
   "outputs": [
    {
     "name": "stdout",
     "output_type": "stream",
     "text": [
      "+-------+----------+------------+\n",
      "|user_id|product_id|ordered_true|\n",
      "+-------+----------+------------+\n",
      "|      7|    8277.0|       false|\n",
      "|      7|   27156.0|       false|\n",
      "|      7|   40852.0|        true|\n",
      "|      8|   34358.0|       false|\n",
      "|     14|   40540.0|       false|\n",
      "|     18|   40723.0|       false|\n",
      "|     27|    5322.0|       false|\n",
      "|     31|   21131.0|       false|\n",
      "|     31|   45104.0|       false|\n",
      "|     32|   49478.0|       false|\n",
      "|     38|   11078.0|       false|\n",
      "|     41|   19678.0|       false|\n",
      "|     42|    1263.0|       false|\n",
      "|     52|   35561.0|       false|\n",
      "|     58|   43115.0|       false|\n",
      "|     61|    6187.0|       false|\n",
      "|     63|   38061.0|       false|\n",
      "|     71|   41408.0|       false|\n",
      "|     79|   16616.0|        true|\n",
      "|     79|   28204.0|       false|\n",
      "+-------+----------+------------+\n",
      "only showing top 20 rows\n",
      "\n"
     ]
    }
   ],
   "source": [
    "df4 = df3.withColumn('ordered_true', df3.user_id2.isNotNull()) \\\n",
    "    .select('user_id','product_id','ordered_true')\n",
    "df4.show()"
   ]
  },
  {
   "cell_type": "code",
   "execution_count": null,
   "metadata": {},
   "outputs": [],
   "source": []
  }
 ],
 "metadata": {
  "kernelspec": {
   "display_name": "Python 3",
   "language": "python",
   "name": "python3"
  },
  "language_info": {
   "codemirror_mode": {
    "name": "ipython",
    "version": 3
   },
   "file_extension": ".py",
   "mimetype": "text/x-python",
   "name": "python",
   "nbconvert_exporter": "python",
   "pygments_lexer": "ipython3",
   "version": "3.6.6"
  }
 },
 "nbformat": 4,
 "nbformat_minor": 2
}
