{
 "cells": [
  {
   "cell_type": "code",
   "execution_count": 37,
   "metadata": {
    "ExecuteTime": {
     "end_time": "2019-01-17T06:28:40.351389Z",
     "start_time": "2019-01-17T06:28:40.343356Z"
    }
   },
   "outputs": [],
   "source": [
    "from pyspark import SparkContext, SparkConf\n",
    "from pyspark.sql import SparkSession\n",
    "from pyspark.sql.types import *\n",
    "from pyspark.sql.functions import asc, desc, dense_rank, col\n",
    "from pyspark.sql.window import Window"
   ]
  },
  {
   "cell_type": "code",
   "execution_count": 2,
   "metadata": {
    "ExecuteTime": {
     "end_time": "2019-01-17T05:37:01.032537Z",
     "start_time": "2019-01-17T05:36:44.722897Z"
    }
   },
   "outputs": [],
   "source": [
    "sc = SparkContext.getOrCreate()\n",
    "ss = SparkSession.builder.getOrCreate()"
   ]
  },
  {
   "cell_type": "code",
   "execution_count": null,
   "metadata": {
    "ExecuteTime": {
     "end_time": "2019-01-17T02:54:36.666344Z",
     "start_time": "2019-01-17T02:54:36.653263Z"
    }
   },
   "outputs": [],
   "source": [
    "schema = StructType([StructField(\"order_id\", IntegerType(), True),\n",
    "StructField(\"user_id\", IntegerType(), True),\n",
    "StructField(\"eval_set\", StringType(), True),\n",
    "StructField(\"order_number\", IntegerType(), True),\n",
    "StructField(\"order_dow\", IntegerType(), True),\n",
    "StructField(\"order_hour_of_day\", IntegerType(), True),\n",
    "StructField(\"days_since_prior_order\", IntegerType(), True),\n",
    "StructField(\"product_id\", IntegerType(), True),\n",
    "StructField(\"add_to_cart_order\", IntegerType(), True),\n",
    "StructField(\"reordered\", IntegerType(), True),\n",
    "StructField(\"product_name\", StringType(), True),\n",
    "StructField(\"aisle_id\", IntegerType(), True),\n",
    "StructField(\"department_id\", IntegerType(), True),\n",
    "StructField(\"department\", StringType(), True),\n",
    "StructField(\"aisle\", StringType(), True)\n",
    "])\n",
    "# did not work with ss.read.csv\n",
    "# inferSchema accomplishes the same col types"
   ]
  },
  {
   "cell_type": "code",
   "execution_count": 3,
   "metadata": {
    "ExecuteTime": {
     "end_time": "2019-01-17T05:37:28.405790Z",
     "start_time": "2019-01-17T05:37:01.032537Z"
    }
   },
   "outputs": [],
   "source": [
    "df = ss.read.csv('../consolidated_df.csv', header=True, inferSchema=True)"
   ]
  },
  {
   "cell_type": "code",
   "execution_count": 4,
   "metadata": {
    "ExecuteTime": {
     "end_time": "2019-01-17T05:37:28.425755Z",
     "start_time": "2019-01-17T05:37:28.405790Z"
    }
   },
   "outputs": [
    {
     "name": "stdout",
     "output_type": "stream",
     "text": [
      "root\n",
      " |-- order_id: integer (nullable = true)\n",
      " |-- user_id: integer (nullable = true)\n",
      " |-- eval_set: string (nullable = true)\n",
      " |-- order_number: integer (nullable = true)\n",
      " |-- order_dow: integer (nullable = true)\n",
      " |-- order_hour_of_day: integer (nullable = true)\n",
      " |-- days_since_prior_order: double (nullable = true)\n",
      " |-- product_id: double (nullable = true)\n",
      " |-- add_to_cart_order: double (nullable = true)\n",
      " |-- reordered: double (nullable = true)\n",
      " |-- product_name: string (nullable = true)\n",
      " |-- aisle_id: string (nullable = true)\n",
      " |-- department_id: string (nullable = true)\n",
      " |-- department: string (nullable = true)\n",
      " |-- aisle: string (nullable = true)\n",
      "\n"
     ]
    }
   ],
   "source": [
    "df.printSchema()"
   ]
  },
  {
   "cell_type": "markdown",
   "metadata": {},
   "source": [
    "### Reference Stats"
   ]
  },
  {
   "cell_type": "code",
   "execution_count": 46,
   "metadata": {
    "ExecuteTime": {
     "end_time": "2019-01-17T06:43:40.351625Z",
     "start_time": "2019-01-17T06:43:11.458997Z"
    }
   },
   "outputs": [
    {
     "data": {
      "text/plain": [
       "13307953"
      ]
     },
     "execution_count": 46,
     "metadata": {},
     "output_type": "execute_result"
    }
   ],
   "source": [
    "# Number of unique prior user_id-product_id combinations\n",
    "df.filter(\"eval_set == 'prior'\").groupby('user_id', 'product_id').count().count()"
   ]
  },
  {
   "cell_type": "code",
   "execution_count": 7,
   "metadata": {
    "ExecuteTime": {
     "end_time": "2019-01-17T05:38:39.850511Z",
     "start_time": "2019-01-17T05:38:24.428363Z"
    }
   },
   "outputs": [
    {
     "data": {
      "text/plain": [
       "1384617"
      ]
     },
     "execution_count": 7,
     "metadata": {},
     "output_type": "execute_result"
    }
   ],
   "source": [
    "# Number of train (order_id-product_id) rows\n",
    "df.filter(\"eval_set == 'train'\").count()"
   ]
  },
  {
   "cell_type": "code",
   "execution_count": 8,
   "metadata": {
    "ExecuteTime": {
     "end_time": "2019-01-17T05:38:55.525370Z",
     "start_time": "2019-01-17T05:38:39.850511Z"
    }
   },
   "outputs": [
    {
     "data": {
      "text/plain": [
       "32434489"
      ]
     },
     "execution_count": 8,
     "metadata": {},
     "output_type": "execute_result"
    }
   ],
   "source": [
    "# Number of prior (order_id-product_id) rows\n",
    "df.filter(\"eval_set == 'prior'\").count()"
   ]
  },
  {
   "cell_type": "markdown",
   "metadata": {},
   "source": [
    "### Constructing Target Variable"
   ]
  },
  {
   "cell_type": "code",
   "execution_count": 49,
   "metadata": {
    "ExecuteTime": {
     "end_time": "2019-01-17T06:57:23.875715Z",
     "start_time": "2019-01-17T06:57:23.839714Z"
    }
   },
   "outputs": [],
   "source": [
    "last_order = df.filter(\"eval_set == 'train'\").select('user_id', 'product_id') \\\n",
    "    .withColumnRenamed('user_id','user_id2') \\\n",
    "    .withColumnRenamed('product_id','product_id2')\n",
    "\n",
    "final_df = df.filter(\"eval_set == 'prior'\").select(\n",
    "    'user_id', 'product_id').distinct()"
   ]
  },
  {
   "cell_type": "code",
   "execution_count": 50,
   "metadata": {
    "ExecuteTime": {
     "end_time": "2019-01-17T06:58:29.009907Z",
     "start_time": "2019-01-17T06:57:39.012395Z"
    }
   },
   "outputs": [
    {
     "name": "stdout",
     "output_type": "stream",
     "text": [
      "+-------+----------+--------+-----------+\n",
      "|user_id|product_id|user_id2|product_id2|\n",
      "+-------+----------+--------+-----------+\n",
      "|      7|    8277.0|    null|       null|\n",
      "|      7|   27156.0|    null|       null|\n",
      "|      7|   40852.0|       7|    40852.0|\n",
      "|      8|   34358.0|    null|       null|\n",
      "|     14|   40540.0|    null|       null|\n",
      "|     18|   40723.0|    null|       null|\n",
      "|     27|    5322.0|    null|       null|\n",
      "|     31|   21131.0|    null|       null|\n",
      "|     31|   45104.0|    null|       null|\n",
      "|     32|   49478.0|    null|       null|\n",
      "|     38|   11078.0|    null|       null|\n",
      "|     41|   19678.0|    null|       null|\n",
      "|     42|    1263.0|    null|       null|\n",
      "|     52|   35561.0|    null|       null|\n",
      "|     58|   43115.0|    null|       null|\n",
      "|     61|    6187.0|    null|       null|\n",
      "|     63|   38061.0|    null|       null|\n",
      "|     71|   41408.0|    null|       null|\n",
      "|     79|   16616.0|      79|    16616.0|\n",
      "|     79|   28204.0|    null|       null|\n",
      "+-------+----------+--------+-----------+\n",
      "only showing top 20 rows\n",
      "\n"
     ]
    }
   ],
   "source": [
    "#join leaves out new products never ordered before in train order\n",
    "df3 = final_df \\\n",
    "    .join(last_order, \n",
    "          on=(final_df.user_id == last_order.user_id2) \n",
    "          & (final_df.product_id == last_order.product_id2), how=\"left\")\n",
    "df3.show()"
   ]
  },
  {
   "cell_type": "code",
   "execution_count": 51,
   "metadata": {
    "ExecuteTime": {
     "end_time": "2019-01-17T06:59:18.218237Z",
     "start_time": "2019-01-17T06:58:29.009907Z"
    }
   },
   "outputs": [
    {
     "name": "stdout",
     "output_type": "stream",
     "text": [
      "+-------+----------+------------+\n",
      "|user_id|product_id|ordered_true|\n",
      "+-------+----------+------------+\n",
      "|      7|    8277.0|       false|\n",
      "|      7|   27156.0|       false|\n",
      "|      7|   40852.0|        true|\n",
      "|      8|   34358.0|       false|\n",
      "|     14|   40540.0|       false|\n",
      "|     18|   40723.0|       false|\n",
      "|     27|    5322.0|       false|\n",
      "|     31|   21131.0|       false|\n",
      "|     31|   45104.0|       false|\n",
      "|     32|   49478.0|       false|\n",
      "|     38|   11078.0|       false|\n",
      "|     41|   19678.0|       false|\n",
      "|     42|    1263.0|       false|\n",
      "|     52|   35561.0|       false|\n",
      "|     58|   43115.0|       false|\n",
      "|     61|    6187.0|       false|\n",
      "|     63|   38061.0|       false|\n",
      "|     71|   41408.0|       false|\n",
      "|     79|   16616.0|        true|\n",
      "|     79|   28204.0|       false|\n",
      "+-------+----------+------------+\n",
      "only showing top 20 rows\n",
      "\n"
     ]
    }
   ],
   "source": [
    "df4 = df3.withColumn('ordered_true', df3.user_id2.isNotNull()) \\\n",
    "    .select('user_id','product_id','ordered_true')\n",
    "df4.show()"
   ]
  },
  {
   "cell_type": "markdown",
   "metadata": {},
   "source": [
    "### Number of times a user ordered a product"
   ]
  },
  {
   "cell_type": "code",
   "execution_count": 47,
   "metadata": {
    "ExecuteTime": {
     "end_time": "2019-01-17T06:51:19.966536Z",
     "start_time": "2019-01-17T06:51:19.946569Z"
    }
   },
   "outputs": [],
   "source": [
    "num_prod_ord = df.filter(\"eval_set == 'prior'\") \\\n",
    "    .groupby('user_id', 'product_id') \\\n",
    "    .count()"
   ]
  },
  {
   "cell_type": "code",
   "execution_count": 48,
   "metadata": {
    "ExecuteTime": {
     "end_time": "2019-01-17T06:51:51.287085Z",
     "start_time": "2019-01-17T06:51:22.109348Z"
    }
   },
   "outputs": [
    {
     "name": "stdout",
     "output_type": "stream",
     "text": [
      "+-------+----------+-----+\n",
      "|user_id|product_id|count|\n",
      "+-------+----------+-----+\n",
      "|  41356|   38652.0|   99|\n",
      "|  17997|    4210.0|   99|\n",
      "| 141736|   25133.0|   99|\n",
      "|  41356|    6583.0|   99|\n",
      "|  41356|   14366.0|   99|\n",
      "| 120897|   12013.0|   98|\n",
      "|  41356|   29671.0|   98|\n",
      "| 103593|   28204.0|   98|\n",
      "|  98085|     196.0|   97|\n",
      "|  99707|   24852.0|   97|\n",
      "|  84478|   31981.0|   97|\n",
      "|  69919|   24852.0|   96|\n",
      "| 141736|   14947.0|   96|\n",
      "|  99753|   27845.0|   96|\n",
      "| 103593|    4920.0|   95|\n",
      "|  76678|   19660.0|   95|\n",
      "|  99753|   38689.0|   95|\n",
      "| 123746|    1160.0|   95|\n",
      "| 178107|   24852.0|   95|\n",
      "| 140440|   18926.0|   95|\n",
      "|  36335|   11784.0|   95|\n",
      "|  84478|   45190.0|   94|\n",
      "|  75124|   18926.0|   94|\n",
      "|  75124|   40571.0|   94|\n",
      "|  74315|   31981.0|   94|\n",
      "| 147173|   15424.0|   94|\n",
      "|  75124|   24954.0|   94|\n",
      "|  75124|   22124.0|   94|\n",
      "|  75124|    4957.0|   94|\n",
      "|  75124|    8061.0|   94|\n",
      "|  75124|   11925.0|   94|\n",
      "| 126311|   19660.0|   93|\n",
      "| 141736|   42342.0|   93|\n",
      "|  75124|   19156.0|   93|\n",
      "| 109181|   29447.0|   93|\n",
      "|  54901|   19660.0|   93|\n",
      "|  81678|   40571.0|   93|\n",
      "| 166786|   38164.0|   93|\n",
      "|  41356|   11187.0|   93|\n",
      "|  81678|   19156.0|   93|\n",
      "|  81678|   17429.0|   93|\n",
      "| 189425|   24852.0|   92|\n",
      "|  31606|    4957.0|   92|\n",
      "|  32971|    8958.0|   92|\n",
      "| 124991|   13176.0|   92|\n",
      "|  82414|    4920.0|   92|\n",
      "| 194931|   24852.0|   92|\n",
      "|  82414|   26096.0|   92|\n",
      "|  54804|   24852.0|   92|\n",
      "| 166786|   23737.0|   92|\n",
      "|  75124|   18523.0|   92|\n",
      "| 104686|   16518.0|   92|\n",
      "| 179667|   40174.0|   92|\n",
      "| 127577|    5212.0|   91|\n",
      "| 171807|    8087.0|   91|\n",
      "|  47666|   27325.0|   91|\n",
      "|  75124|   14917.0|   91|\n",
      "|   5588|   33768.0|   91|\n",
      "| 140440|   46676.0|   91|\n",
      "|   3377|   38251.0|   91|\n",
      "|  32971|   24852.0|   90|\n",
      "|  44834|   35503.0|   90|\n",
      "| 166786|   25718.0|   90|\n",
      "| 189207|    3868.0|   90|\n",
      "|  74315|   24852.0|   90|\n",
      "|  23170|   16262.0|   90|\n",
      "|  62443|   12763.0|   90|\n",
      "|  94764|    2120.0|   90|\n",
      "| 140440|   44632.0|   90|\n",
      "| 148185|   26165.0|   90|\n",
      "|  71821|   11140.0|   90|\n",
      "|  75124|   33787.0|   89|\n",
      "|  82414|   28199.0|   89|\n",
      "| 180621|   38689.0|   89|\n",
      "| 137521|   25931.0|   89|\n",
      "|   5588|   21573.0|   89|\n",
      "|   5588|    4920.0|   89|\n",
      "|  17884|   26047.0|   89|\n",
      "|  82420|   11937.0|   89|\n",
      "|  53673|   23909.0|   89|\n",
      "|  26489|   19677.0|   89|\n",
      "| 103593|     343.0|   89|\n",
      "| 118685|   31422.0|   89|\n",
      "|  17997|   27086.0|   89|\n",
      "| 140753|   28156.0|   88|\n",
      "| 104686|   16260.0|   88|\n",
      "| 100935|   20842.0|   88|\n",
      "|  38811|    2120.0|   88|\n",
      "|  90110|   13176.0|   88|\n",
      "|   4490|   45763.0|   88|\n",
      "|  55831|   28572.0|   88|\n",
      "|   5588|   38768.0|   88|\n",
      "|  55989|   48642.0|   88|\n",
      "|  37056|   31720.0|   88|\n",
      "|  98688|    6137.0|   88|\n",
      "|   5588|   22362.0|   87|\n",
      "| 166908|    4210.0|   87|\n",
      "|  59742|    7916.0|   87|\n",
      "| 120232|   24852.0|   87|\n",
      "| 196224|   16797.0|   87|\n",
      "+-------+----------+-----+\n",
      "only showing top 100 rows\n",
      "\n"
     ]
    }
   ],
   "source": [
    "# Sample output\n",
    "num_prod_ord.sort(desc('count')).show(100)"
   ]
  },
  {
   "cell_type": "markdown",
   "metadata": {},
   "source": [
    "### Number of times user ordered products in last 5 orders"
   ]
  },
  {
   "cell_type": "code",
   "execution_count": 62,
   "metadata": {
    "ExecuteTime": {
     "end_time": "2019-01-17T07:29:01.050023Z",
     "start_time": "2019-01-17T07:26:33.925311Z"
    }
   },
   "outputs": [
    {
     "name": "stdout",
     "output_type": "stream",
     "text": [
      "+-------+----------+-----+------------+\n",
      "|user_id|product_id|count|ordered_true|\n",
      "+-------+----------+-----+------------+\n",
      "|      7|    8277.0|    1|       false|\n",
      "|      7|   27156.0|    1|       false|\n",
      "|      7|   40852.0|    3|        true|\n",
      "|      8|   34358.0|    2|       false|\n",
      "|     14|   40540.0| null|       false|\n",
      "|     18|   40723.0| null|       false|\n",
      "|     27|    5322.0| null|       false|\n",
      "|     31|   21131.0| null|       false|\n",
      "|     31|   45104.0|    1|       false|\n",
      "|     32|   49478.0|    1|       false|\n",
      "|     38|   11078.0|    1|       false|\n",
      "|     41|   19678.0|    1|       false|\n",
      "|     42|    1263.0|    1|       false|\n",
      "|     52|   35561.0|    1|       false|\n",
      "|     58|   43115.0| null|       false|\n",
      "|     61|    6187.0|    1|       false|\n",
      "|     63|   38061.0| null|       false|\n",
      "|     71|   41408.0|    1|       false|\n",
      "|     79|   16616.0| null|        true|\n",
      "|     79|   28204.0| null|       false|\n",
      "+-------+----------+-----+------------+\n",
      "only showing top 20 rows\n",
      "\n"
     ]
    }
   ],
   "source": [
    "df4.cache()\n",
    "\n",
    "window = Window.partitionBy('user_id') \\\n",
    "                .orderBy(desc('order_number')) \\\n",
    "                .rowsBetween(Window.unboundedPreceding, Window.currentRow)\n",
    "\n",
    "num_prod_ordl5 = df.filter(\"eval_set == 'prior'\") \\\n",
    "    .select('user_id', 'product_id', 'order_number',  \n",
    "          dense_rank().over(window).alias('rank')) \\\n",
    "                .filter(col('rank') <= 5) \\\n",
    "                .groupby('user_id', 'product_id') \\\n",
    "                .count()\n",
    "\n",
    "num_prod_ordl5.cache()\n",
    "num_prod_ordl5 = num_prod_ordl5 \\\n",
    "    .withColumnRenamed('user_id','user_id2') \\\n",
    "    .withColumnRenamed('product_id','product_id2')\n",
    "\n",
    "num_prod_ordl5 = df4.join(num_prod_ordl5, \n",
    "          on=(df4.user_id == num_prod_ordl5.user_id2) \n",
    "          & (df4.product_id == num_prod_ordl5.product_id2), how=\"left\")\n",
    "\n",
    "num_prod_ordl5.select('user_id','product_id','count','ordered_true').show()"
   ]
  },
  {
   "cell_type": "code",
   "execution_count": null,
   "metadata": {},
   "outputs": [],
   "source": []
  }
 ],
 "metadata": {
  "kernelspec": {
   "display_name": "Python 3",
   "language": "python",
   "name": "python3"
  },
  "language_info": {
   "codemirror_mode": {
    "name": "ipython",
    "version": 3
   },
   "file_extension": ".py",
   "mimetype": "text/x-python",
   "name": "python",
   "nbconvert_exporter": "python",
   "pygments_lexer": "ipython3",
   "version": "3.6.6"
  }
 },
 "nbformat": 4,
 "nbformat_minor": 2
}
