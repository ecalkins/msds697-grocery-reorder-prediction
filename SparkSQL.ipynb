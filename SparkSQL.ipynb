{
 "cells": [
  {
   "cell_type": "code",
   "execution_count": 1,
   "metadata": {},
   "outputs": [],
   "source": [
    "from pyspark import SparkContext, SparkConf\n",
    "from pyspark.sql import SparkSession\n",
    "from pyspark.sql.types import *"
   ]
  },
  {
   "cell_type": "code",
   "execution_count": 2,
   "metadata": {},
   "outputs": [],
   "source": [
    "sc = SparkContext.getOrCreate()\n",
    "ss = SparkSession.builder.getOrCreate()"
   ]
  },
  {
   "cell_type": "code",
   "execution_count": 4,
   "metadata": {},
   "outputs": [],
   "source": [
    "instacart = ss.read.csv('/Users/christopherolley/data/consolidated_df.csv', header=True, inferSchema=True)"
   ]
  },
  {
   "cell_type": "code",
   "execution_count": 6,
   "metadata": {},
   "outputs": [
    {
     "name": "stdout",
     "output_type": "stream",
     "text": [
      "root\n",
      " |-- _c0: integer (nullable = true)\n",
      " |-- order_id: integer (nullable = true)\n",
      " |-- user_id: integer (nullable = true)\n",
      " |-- eval_set: string (nullable = true)\n",
      " |-- order_number: integer (nullable = true)\n",
      " |-- order_dow: integer (nullable = true)\n",
      " |-- order_hour_of_day: integer (nullable = true)\n",
      " |-- days_since_prior_order: double (nullable = true)\n",
      " |-- product_id: double (nullable = true)\n",
      " |-- add_to_cart_order: double (nullable = true)\n",
      " |-- reordered: double (nullable = true)\n",
      " |-- product_name: string (nullable = true)\n",
      " |-- aisle_id: string (nullable = true)\n",
      " |-- department_id: string (nullable = true)\n",
      " |-- department: string (nullable = true)\n",
      " |-- aisle: string (nullable = true)\n",
      "\n"
     ]
    }
   ],
   "source": [
    "instacart.printSchema()"
   ]
  },
  {
   "cell_type": "code",
   "execution_count": 32,
   "metadata": {},
   "outputs": [],
   "source": [
    "instacart.write.saveAsTable('Instacart')"
   ]
  },
  {
   "cell_type": "markdown",
   "metadata": {},
   "source": [
    "# Product Features"
   ]
  },
  {
   "cell_type": "markdown",
   "metadata": {},
   "source": [
    "Number of times a product was ordered:"
   ]
  },
  {
   "cell_type": "code",
   "execution_count": 14,
   "metadata": {},
   "outputs": [
    {
     "name": "stdout",
     "output_type": "stream",
     "text": [
      "+----------+------+\n",
      "|product_id| count|\n",
      "+----------+------+\n",
      "|   24852.0|472565|\n",
      "|   13176.0|379450|\n",
      "|   21137.0|264683|\n",
      "|   21903.0|241921|\n",
      "|   47209.0|213584|\n",
      "|   47766.0|176815|\n",
      "|   47626.0|152657|\n",
      "|   16797.0|142951|\n",
      "|   26209.0|140627|\n",
      "|   27845.0|137905|\n",
      "|   27966.0|137057|\n",
      "|   22935.0|113426|\n",
      "|   24964.0|109778|\n",
      "|   45007.0|104823|\n",
      "|   39275.0|100060|\n",
      "|   49683.0| 97315|\n",
      "|   28204.0| 89632|\n",
      "|    5876.0| 87746|\n",
      "|    8277.0| 85020|\n",
      "|   40706.0| 84255|\n",
      "+----------+------+\n",
      "only showing top 20 rows\n",
      "\n"
     ]
    }
   ],
   "source": [
    "instacart.filter(\"eval_set=='prior'\").groupBy('product_id').count().orderBy(\"count\", ascending=False).show()"
   ]
  },
  {
   "cell_type": "markdown",
   "metadata": {},
   "source": [
    "Average position in cart:"
   ]
  },
  {
   "cell_type": "code",
   "execution_count": 19,
   "metadata": {},
   "outputs": [
    {
     "name": "stdout",
     "output_type": "stream",
     "text": [
      "+----------+--------------------+----------------------+\n",
      "|product_id|        product_name|avg(add_to_cart_order)|\n",
      "+----------+--------------------+----------------------+\n",
      "|   37088.0|Lndbrg White Quin...|                   1.0|\n",
      "|   39759.0|Indoor & Outdoor ...|                   1.0|\n",
      "|   44495.0|Lowfat Cherry Lim...|                   1.0|\n",
      "|   25441.0|       Spicy Falafel|                   1.0|\n",
      "|   41800.0|       Easter Basket|                   1.0|\n",
      "|   43144.0|Flax Oil, Organic...|                   1.0|\n",
      "|   33440.0|Rosa Mosqueta Ros...|                   1.0|\n",
      "|    2769.0|Pappardelle Nests...|                   1.0|\n",
      "|   12841.0|      King Crab Legs|                   1.0|\n",
      "|   34962.0|  Prenatal Nutrients|                   1.0|\n",
      "|   25888.0|Super Nutrition V...|                   1.0|\n",
      "|   27863.0|        Cooking Fuel|                   1.0|\n",
      "|   47680.0| Indian Wells Merlot|                   1.0|\n",
      "|    2796.0|      American Blend|                   1.0|\n",
      "|   36597.0|Vanilla Flavor Mu...|                   1.0|\n",
      "|   38276.0|Chocolate Pepperm...|                   1.0|\n",
      "|   11254.0|Drink Distinct Al...|                   1.0|\n",
      "|   34463.0|Vegan Coconut Mil...|                   1.0|\n",
      "|   30343.0|Seltzer Blueberry...|                   1.0|\n",
      "|   41790.0|Peppermint Schnap...|                   1.0|\n",
      "+----------+--------------------+----------------------+\n",
      "only showing top 20 rows\n",
      "\n"
     ]
    }
   ],
   "source": [
    "instacart.filter(\"eval_set=='prior'\").groupBy('product_id', 'product_name').avg(\"add_to_cart_order\").orderBy(\"avg(add_to_cart_order)\").show()"
   ]
  },
  {
   "cell_type": "markdown",
   "metadata": {},
   "source": [
    "Reorder rate: number of reorders/total number of times ordered"
   ]
  },
  {
   "cell_type": "markdown",
   "metadata": {},
   "source": [
    "# User x Product Features"
   ]
  },
  {
   "cell_type": "markdown",
   "metadata": {},
   "source": [
    "Reorder count: number of time each user has reordered a product:"
   ]
  },
  {
   "cell_type": "code",
   "execution_count": 31,
   "metadata": {},
   "outputs": [
    {
     "name": "stdout",
     "output_type": "stream",
     "text": [
      "+----------+-------+--------------+\n",
      "|product_id|user_id|sum(reordered)|\n",
      "+----------+-------+--------------+\n",
      "|   35547.0|    385|           0.0|\n",
      "|   27845.0|    433|           1.0|\n",
      "|   34050.0|    601|           4.0|\n",
      "|   44949.0|    853|           9.0|\n",
      "|   35221.0|   1123|           0.0|\n",
      "|   13113.0|   1607|           2.0|\n",
      "|   18224.0|   2187|           3.0|\n",
      "|   30620.0|   2451|           0.0|\n",
      "|    5612.0|   2736|           7.0|\n",
      "|   33198.0|   2954|           0.0|\n",
      "|   24852.0|   2991|           6.0|\n",
      "|   15424.0|   3686|           2.0|\n",
      "|   30779.0|   3781|           1.0|\n",
      "|   45989.0|   4381|          10.0|\n",
      "|   14705.0|   4630|           1.0|\n",
      "|   35547.0|   5104|           4.0|\n",
      "|   38387.0|   5117|           2.0|\n",
      "|   37687.0|   5245|           2.0|\n",
      "|    4987.0|   5387|           4.0|\n",
      "|    6377.0|   5470|           1.0|\n",
      "+----------+-------+--------------+\n",
      "only showing top 20 rows\n",
      "\n"
     ]
    }
   ],
   "source": [
    "instacart.filter(\"eval_set=='prior'\").groupBy('product_id', 'user_id').sum('reordered').show()"
   ]
  },
  {
   "cell_type": "markdown",
   "metadata": {},
   "source": [
    "Number of orders since a user last ordered a given item (work in progress)"
   ]
  },
  {
   "cell_type": "code",
   "execution_count": 74,
   "metadata": {},
   "outputs": [
    {
     "name": "stdout",
     "output_type": "stream",
     "text": [
      "+--------+-------+----------+---------+\n",
      "|order_id|user_id|product_id|order_num|\n",
      "+--------+-------+----------+---------+\n",
      "|     150| 126892|   14127.0|        1|\n",
      "|     150| 126892|   45645.0|        1|\n",
      "|     150| 126892|   21506.0|        1|\n",
      "|     229|  47358|   21108.0|        1|\n",
      "|     229|  47358|   34276.0|        1|\n",
      "|     229|  47358|   27730.0|        1|\n",
      "|     229|  47358|   42495.0|        1|\n",
      "|     229|  47358|   11782.0|        1|\n",
      "|     229|  47358|   41690.0|        1|\n",
      "|     229|  47358|   17821.0|        1|\n",
      "|     229|  47358|   18266.0|        1|\n",
      "|     229|  47358|   25435.0|        1|\n",
      "|     229|  47358|   14579.0|        1|\n",
      "|     229|  47358|   40824.0|        1|\n",
      "|     789| 143268|   18918.0|        1|\n",
      "|     789| 143268|    5077.0|        1|\n",
      "|     789| 143268|   16797.0|        1|\n",
      "|     789| 143268|    1481.0|        1|\n",
      "|     789| 143268|    9163.0|        1|\n",
      "|     789| 143268|   13287.0|        1|\n",
      "|     789| 143268|    6073.0|        1|\n",
      "|     981|  91324|   11520.0|        1|\n",
      "|     981|  91324|   13176.0|        1|\n",
      "|     981|  91324|   47209.0|        1|\n",
      "|     981|  91324|   37646.0|        1|\n",
      "|     981|  91324|   21230.0|        1|\n",
      "|    1258| 132581|   13176.0|        1|\n",
      "|    1258| 132581|   31040.0|        1|\n",
      "|    1258| 132581|   49005.0|        1|\n",
      "|    1258| 132581|   45948.0|        1|\n",
      "|    1258| 132581|   17429.0|        1|\n",
      "|    1258| 132581|   16270.0|        1|\n",
      "|    1358| 107575|   29794.0|        1|\n",
      "|    1445|   7983|   13176.0|        1|\n",
      "|    1445|   7983|   12980.0|        1|\n",
      "|    1445|   7983|   44142.0|        1|\n",
      "|    1445|   7983|    7746.0|        1|\n",
      "|    1445|   7983|   24964.0|        1|\n",
      "|    1445|   7983|   15937.0|        1|\n",
      "|    1445|   7983|   42768.0|        1|\n",
      "|    1445|   7983|    4605.0|        1|\n",
      "|    1445|   7983|   27104.0|        1|\n",
      "|    1489| 102380|   24838.0|        1|\n",
      "|    1489| 102380|   21137.0|        1|\n",
      "|    1489| 102380|   13176.0|        1|\n",
      "|    1489| 102380|   36070.0|        1|\n",
      "|    1489| 102380|   36389.0|        1|\n",
      "|    1489| 102380|    2996.0|        1|\n",
      "|    1489| 102380|   34058.0|        1|\n",
      "|    1489| 102380|   18027.0|        1|\n",
      "+--------+-------+----------+---------+\n",
      "only showing top 50 rows\n",
      "\n"
     ]
    }
   ],
   "source": [
    "ss.sql(\"select Instacart.order_id, Instacart.user_id, Instacart.product_id, rhs.order_num from Instacart\\\n",
    "        left join\\\n",
    "       (select order_id, user_id, row_number() over (partition by user_id order by order_id) as order_num from\\\n",
    "        (select distinct order_id, user_id from Instacart where eval_set = 'prior') as iq) as rhs\\\n",
    "        on Instacart.order_id=rhs.order_id and Instacart.user_id=rhs.user_id\").show(50)"
   ]
  },
  {
   "cell_type": "markdown",
   "metadata": {},
   "source": [
    "# User Features"
   ]
  },
  {
   "cell_type": "markdown",
   "metadata": {},
   "source": [
    "Maximum number of times a user has ordered any product:"
   ]
  },
  {
   "cell_type": "code",
   "execution_count": 54,
   "metadata": {},
   "outputs": [
    {
     "name": "stdout",
     "output_type": "stream",
     "text": [
      "+------+-------+\n",
      "|   uid|max(ct)|\n",
      "+------+-------+\n",
      "| 11141|      2|\n",
      "| 46266|     10|\n",
      "| 16386|     27|\n",
      "|160492|     10|\n",
      "|156366|     33|\n",
      "| 11748|      4|\n",
      "| 17679|     56|\n",
      "|  7993|      7|\n",
      "| 63271|     34|\n",
      "|156197|      6|\n",
      "| 57380|     14|\n",
      "|  3794|     38|\n",
      "|  4900|     13|\n",
      "| 43103|      4|\n",
      "| 43714|     16|\n",
      "|  9376|     20|\n",
      "|156749|      4|\n",
      "| 43527|     30|\n",
      "| 43302|      8|\n",
      "|160563|      7|\n",
      "+------+-------+\n",
      "only showing top 20 rows\n",
      "\n"
     ]
    }
   ],
   "source": [
    "ss.sql(\"select uid, max(ct) from\\\n",
    "       (select product_id as pid, user_id as uid, count(*) as ct from Instacart\\\n",
    "       where eval_set = 'prior'\\\n",
    "       group by 1,2) as iq\\\n",
    "       group by 1\").show()"
   ]
  }
 ],
 "metadata": {
  "kernelspec": {
   "display_name": "Python 3",
   "language": "python",
   "name": "python3"
  },
  "language_info": {
   "codemirror_mode": {
    "name": "ipython",
    "version": 3
   },
   "file_extension": ".py",
   "mimetype": "text/x-python",
   "name": "python",
   "nbconvert_exporter": "python",
   "pygments_lexer": "ipython3",
   "version": "3.6.8"
  }
 },
 "nbformat": 4,
 "nbformat_minor": 2
}
