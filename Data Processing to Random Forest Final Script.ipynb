{
 "cells": [
  {
   "cell_type": "code",
   "execution_count": null,
   "metadata": {
    "ExecuteTime": {
     "end_time": "2019-01-18T19:05:19.624903Z",
     "start_time": "2019-01-18T19:05:19.616902Z"
    }
   },
   "outputs": [],
   "source": [
    "import os\n",
    "pyspark_submit_args = '--packages org.mongodb.spark:mongo-spark-connector_2.11:2.4.0 pyspark-shell'\n",
    "os.environ[\"PYSPARK_SUBMIT_ARGS\"] = pyspark_submit_args"
   ]
  },
  {
   "cell_type": "code",
   "execution_count": 33,
   "metadata": {
    "ExecuteTime": {
     "end_time": "2019-01-18T22:33:13.548304Z",
     "start_time": "2019-01-18T22:33:13.544314Z"
    }
   },
   "outputs": [],
   "source": [
    "from pyspark import SparkContext, SparkConf\n",
    "from pyspark.sql import SparkSession\n",
    "from pyspark.storagelevel import StorageLevel\n",
    "from pyspark.sql.types import *\n",
    "from pyspark.sql.functions import asc, desc, dense_rank, col, when, count, avg, sum\n",
    "from pyspark.sql.window import Window"
   ]
  },
  {
   "cell_type": "code",
   "execution_count": 2,
   "metadata": {
    "ExecuteTime": {
     "end_time": "2019-01-18T22:16:57.544789Z",
     "start_time": "2019-01-18T22:16:50.917521Z"
    }
   },
   "outputs": [],
   "source": [
    "sc = SparkContext.getOrCreate()\n",
    "ss = SparkSession.builder.getOrCreate()\n",
    "# ss = SparkSession \\\n",
    "#     .builder \\\n",
    "#     .appName(\"instacart\") \\\n",
    "#     .config(\"spark.mongodb.input.uri\", \"mongodb://34.209.32.234:27017/shardonnay.instacart\")\\\n",
    "#     .getOrCreate()"
   ]
  },
  {
   "cell_type": "markdown",
   "metadata": {},
   "source": [
    "## Change data_path variable to local consolidated_df.csv file"
   ]
  },
  {
   "cell_type": "code",
   "execution_count": 3,
   "metadata": {
    "ExecuteTime": {
     "end_time": "2019-01-18T22:17:03.333267Z",
     "start_time": "2019-01-18T22:16:58.553262Z"
    }
   },
   "outputs": [],
   "source": [
    "# df = ss.read.format(\"com.mongodb.spark.sql.DefaultSource\").load() #mongo\n",
    "# df = ss.read.csv('../consolidated_df.csv', header=True, inferSchema=True) #local csv - full dataset\n",
    "df = ss.read.csv('sample_consolidated_df.csv', header=True, inferSchema=True)"
   ]
  },
  {
   "cell_type": "code",
   "execution_count": 4,
   "metadata": {
    "ExecuteTime": {
     "end_time": "2019-01-18T22:17:03.920480Z",
     "start_time": "2019-01-18T22:17:03.871593Z"
    }
   },
   "outputs": [
    {
     "name": "stdout",
     "output_type": "stream",
     "text": [
      "root\n",
      " |-- order_id: integer (nullable = true)\n",
      " |-- user_id: integer (nullable = true)\n",
      " |-- eval_set: string (nullable = true)\n",
      " |-- order_number: integer (nullable = true)\n",
      " |-- order_dow: integer (nullable = true)\n",
      " |-- order_hour_of_day: integer (nullable = true)\n",
      " |-- days_since_prior_order: double (nullable = true)\n",
      " |-- product_id: double (nullable = true)\n",
      " |-- add_to_cart_order: double (nullable = true)\n",
      " |-- reordered: double (nullable = true)\n",
      "\n"
     ]
    }
   ],
   "source": [
    "df.printSchema()"
   ]
  },
  {
   "cell_type": "code",
   "execution_count": 5,
   "metadata": {
    "ExecuteTime": {
     "end_time": "2019-01-18T22:17:26.221884Z",
     "start_time": "2019-01-18T22:17:26.218894Z"
    }
   },
   "outputs": [],
   "source": [
    "# df = df.drop('aisle_id', 'aisle', 'department_id', 'department')"
   ]
  },
  {
   "cell_type": "code",
   "execution_count": 6,
   "metadata": {
    "ExecuteTime": {
     "end_time": "2019-01-18T22:17:29.633520Z",
     "start_time": "2019-01-18T22:17:27.528128Z"
    }
   },
   "outputs": [],
   "source": [
    "df.write.saveAsTable('Instacart') # saving as table for complex queries with window functions"
   ]
  },
  {
   "cell_type": "markdown",
   "metadata": {},
   "source": [
    "### Reference Stats"
   ]
  },
  {
   "cell_type": "code",
   "execution_count": 7,
   "metadata": {
    "ExecuteTime": {
     "end_time": "2019-01-18T22:17:34.692570Z",
     "start_time": "2019-01-18T22:17:32.234385Z"
    }
   },
   "outputs": [
    {
     "data": {
      "text/plain": [
       "0"
      ]
     },
     "execution_count": 7,
     "metadata": {},
     "output_type": "execute_result"
    }
   ],
   "source": [
    "df.filter(\"eval_set == 'test'\").select('user_id').distinct().count()"
   ]
  },
  {
   "cell_type": "code",
   "execution_count": 8,
   "metadata": {
    "ExecuteTime": {
     "end_time": "2019-01-18T22:17:37.479230Z",
     "start_time": "2019-01-18T22:17:34.695561Z"
    }
   },
   "outputs": [
    {
     "data": {
      "text/plain": [
       "4861"
      ]
     },
     "execution_count": 8,
     "metadata": {},
     "output_type": "execute_result"
    }
   ],
   "source": [
    "df.filter(\"eval_set == 'train'\").select('user_id').distinct().count()"
   ]
  },
  {
   "cell_type": "code",
   "execution_count": 9,
   "metadata": {
    "ExecuteTime": {
     "end_time": "2019-01-18T22:17:40.191445Z",
     "start_time": "2019-01-18T22:17:37.481226Z"
    }
   },
   "outputs": [
    {
     "data": {
      "text/plain": [
       "4861"
      ]
     },
     "execution_count": 9,
     "metadata": {},
     "output_type": "execute_result"
    }
   ],
   "source": [
    "df.filter(\"eval_set == 'prior'\").select('user_id').distinct().count()"
   ]
  },
  {
   "cell_type": "code",
   "execution_count": 10,
   "metadata": {
    "ExecuteTime": {
     "end_time": "2019-01-18T22:17:42.580262Z",
     "start_time": "2019-01-18T22:17:40.194436Z"
    }
   },
   "outputs": [
    {
     "data": {
      "text/plain": [
       "4861"
      ]
     },
     "execution_count": 10,
     "metadata": {},
     "output_type": "execute_result"
    }
   ],
   "source": [
    "df.select('user_id').distinct().count()"
   ]
  },
  {
   "cell_type": "code",
   "execution_count": 11,
   "metadata": {
    "ExecuteTime": {
     "end_time": "2019-01-18T22:18:01.350374Z",
     "start_time": "2019-01-18T22:17:57.424110Z"
    }
   },
   "outputs": [
    {
     "data": {
      "text/plain": [
       "394864"
      ]
     },
     "execution_count": 11,
     "metadata": {},
     "output_type": "execute_result"
    }
   ],
   "source": [
    "# Number of unique prior user_id-product_id combinations\n",
    "df.filter(\"eval_set == 'prior'\").groupby('user_id', 'product_id').count().count()"
   ]
  },
  {
   "cell_type": "code",
   "execution_count": 12,
   "metadata": {
    "ExecuteTime": {
     "end_time": "2019-01-18T22:18:01.921259Z",
     "start_time": "2019-01-18T22:18:01.352779Z"
    }
   },
   "outputs": [
    {
     "data": {
      "text/plain": [
       "80516"
      ]
     },
     "execution_count": 12,
     "metadata": {},
     "output_type": "execute_result"
    }
   ],
   "source": [
    "# Number of train (order_id-product_id) rows\n",
    "df.filter(\"eval_set == 'train'\").count()"
   ]
  },
  {
   "cell_type": "code",
   "execution_count": 13,
   "metadata": {
    "ExecuteTime": {
     "end_time": "2019-01-18T22:18:02.586480Z",
     "start_time": "2019-01-18T22:18:01.922256Z"
    }
   },
   "outputs": [
    {
     "data": {
      "text/plain": [
       "1021157"
      ]
     },
     "execution_count": 13,
     "metadata": {},
     "output_type": "execute_result"
    }
   ],
   "source": [
    "# Number of prior (order_id-product_id) rows\n",
    "df.filter(\"eval_set == 'prior'\").count()"
   ]
  },
  {
   "cell_type": "markdown",
   "metadata": {},
   "source": [
    "### Constructing Target Variable"
   ]
  },
  {
   "cell_type": "code",
   "execution_count": 14,
   "metadata": {
    "ExecuteTime": {
     "end_time": "2019-01-18T22:19:14.262056Z",
     "start_time": "2019-01-18T22:19:14.223125Z"
    }
   },
   "outputs": [],
   "source": [
    "train_users = df.filter(\"eval_set == 'train'\").select(col('user_id').alias('user_id2')).distinct()"
   ]
  },
  {
   "cell_type": "code",
   "execution_count": 15,
   "metadata": {
    "ExecuteTime": {
     "end_time": "2019-01-18T22:19:14.571948Z",
     "start_time": "2019-01-18T22:19:14.551966Z"
    }
   },
   "outputs": [],
   "source": [
    "final_index_df = df.filter(\"eval_set == 'prior'\").select(\n",
    "    'user_id', 'product_id').distinct()"
   ]
  },
  {
   "cell_type": "code",
   "execution_count": 16,
   "metadata": {
    "ExecuteTime": {
     "end_time": "2019-01-18T22:19:17.787307Z",
     "start_time": "2019-01-18T22:19:17.760381Z"
    }
   },
   "outputs": [],
   "source": [
    "final_index_df = final_index_df.join(train_users, on=(final_index_df.user_id == train_users.user_id2), how='inner') \\\n",
    "                .drop('user_id2')"
   ]
  },
  {
   "cell_type": "code",
   "execution_count": 17,
   "metadata": {
    "ExecuteTime": {
     "end_time": "2019-01-18T22:19:23.812616Z",
     "start_time": "2019-01-18T22:19:17.999909Z"
    }
   },
   "outputs": [
    {
     "data": {
      "text/plain": [
       "394864"
      ]
     },
     "execution_count": 17,
     "metadata": {},
     "output_type": "execute_result"
    }
   ],
   "source": [
    "final_index_df.count()"
   ]
  },
  {
   "cell_type": "code",
   "execution_count": 18,
   "metadata": {
    "ExecuteTime": {
     "end_time": "2019-01-18T22:19:42.298923Z",
     "start_time": "2019-01-18T22:19:42.281969Z"
    }
   },
   "outputs": [],
   "source": [
    "last_orders_df = df.filter(\"eval_set == 'train'\") \\\n",
    "                    .select(col('user_id').alias('user_id2'),\n",
    "                            col('product_id').alias('product_id2'))"
   ]
  },
  {
   "cell_type": "code",
   "execution_count": 19,
   "metadata": {
    "ExecuteTime": {
     "end_time": "2019-01-18T22:19:59.395397Z",
     "start_time": "2019-01-18T22:19:51.871053Z"
    }
   },
   "outputs": [
    {
     "name": "stdout",
     "output_type": "stream",
     "text": [
      "+-------+----------+--------+-----------+\n",
      "|user_id|product_id|user_id2|product_id2|\n",
      "+-------+----------+--------+-----------+\n",
      "|    252|   28321.0|    null|       null|\n",
      "|    703|   48199.0|    null|       null|\n",
      "|    749|   12614.0|    null|       null|\n",
      "|    786|   10305.0|    null|       null|\n",
      "|   1459|   26162.0|    null|       null|\n",
      "|   1459|   48931.0|    null|       null|\n",
      "|   1486|    1942.0|    null|       null|\n",
      "|   1486|   39275.0|    null|       null|\n",
      "|   1559|   40836.0|    null|       null|\n",
      "|   1952|    9477.0|    1952|     9477.0|\n",
      "|   2310|   47553.0|    null|       null|\n",
      "|   2312|     277.0|    null|       null|\n",
      "|   2367|   26666.0|    null|       null|\n",
      "|   2409|   46941.0|    null|       null|\n",
      "|   2564|   37067.0|    null|       null|\n",
      "|   2917|   12797.0|    null|       null|\n",
      "|   3194|   31717.0|    3194|    31717.0|\n",
      "|   3217|    7350.0|    null|       null|\n",
      "|   3314|    3270.0|    null|       null|\n",
      "|   3314|   11182.0|    null|       null|\n",
      "+-------+----------+--------+-----------+\n",
      "only showing top 20 rows\n",
      "\n"
     ]
    }
   ],
   "source": [
    "#join leaves out new products never ordered before in final(train) orders\n",
    "df3 = final_index_df \\\n",
    "    .join(last_orders_df, \n",
    "          on=(final_index_df.user_id == last_orders_df.user_id2) \n",
    "          & (final_index_df.product_id == last_orders_df.product_id2), how=\"left\")\n",
    "df3.show()"
   ]
  },
  {
   "cell_type": "code",
   "execution_count": 20,
   "metadata": {
    "ExecuteTime": {
     "end_time": "2019-01-18T22:20:12.998260Z",
     "start_time": "2019-01-18T22:20:05.523992Z"
    }
   },
   "outputs": [
    {
     "name": "stdout",
     "output_type": "stream",
     "text": [
      "+-------+----------+------------+\n",
      "|user_id|product_id|ordered_true|\n",
      "+-------+----------+------------+\n",
      "|    252|   28321.0|       false|\n",
      "|    703|   48199.0|       false|\n",
      "|    749|   12614.0|       false|\n",
      "|    786|   10305.0|       false|\n",
      "|   1459|   26162.0|       false|\n",
      "|   1459|   48931.0|       false|\n",
      "|   1486|    1942.0|       false|\n",
      "|   1486|   39275.0|       false|\n",
      "|   1559|   40836.0|       false|\n",
      "|   1952|    9477.0|        true|\n",
      "|   2310|   47553.0|       false|\n",
      "|   2312|     277.0|       false|\n",
      "|   2367|   26666.0|       false|\n",
      "|   2409|   46941.0|       false|\n",
      "|   2564|   37067.0|       false|\n",
      "|   2917|   12797.0|       false|\n",
      "|   3194|   31717.0|        true|\n",
      "|   3217|    7350.0|       false|\n",
      "|   3314|    3270.0|       false|\n",
      "|   3314|   11182.0|       false|\n",
      "+-------+----------+------------+\n",
      "only showing top 20 rows\n",
      "\n"
     ]
    }
   ],
   "source": [
    "feature_target_df = df3.withColumn('ordered_true', df3.user_id2.isNotNull()) \\\n",
    "    .select('user_id','product_id','ordered_true')\n",
    "feature_target_df.show()"
   ]
  },
  {
   "cell_type": "code",
   "execution_count": 21,
   "metadata": {
    "ExecuteTime": {
     "end_time": "2019-01-18T22:20:22.023582Z",
     "start_time": "2019-01-18T22:20:19.987559Z"
    }
   },
   "outputs": [
    {
     "data": {
      "text/plain": [
       "DataFrame[order_id: int, user_id: int, eval_set: string, order_number: int, order_dow: int, order_hour_of_day: int, days_since_prior_order: double, product_id: double, add_to_cart_order: double, reordered: double]"
      ]
     },
     "execution_count": 21,
     "metadata": {},
     "output_type": "execute_result"
    }
   ],
   "source": [
    "priors_df = df.filter(\"eval_set == 'prior'\")\n",
    "priors_df = priors_df.join(train_users, on=(priors_df.user_id == train_users.user_id2), how='inner') \\\n",
    "                .drop('user_id2')\n",
    "\n",
    "priors_df.cache()"
   ]
  },
  {
   "cell_type": "code",
   "execution_count": 22,
   "metadata": {
    "ExecuteTime": {
     "end_time": "2019-01-18T22:20:23.572280Z",
     "start_time": "2019-01-18T22:20:22.026575Z"
    }
   },
   "outputs": [
    {
     "data": {
      "text/plain": [
       "1021157"
      ]
     },
     "execution_count": 22,
     "metadata": {},
     "output_type": "execute_result"
    }
   ],
   "source": [
    "priors_df.count()"
   ]
  },
  {
   "cell_type": "code",
   "execution_count": 23,
   "metadata": {
    "ExecuteTime": {
     "end_time": "2019-01-18T22:20:23.584249Z",
     "start_time": "2019-01-18T22:20:23.573277Z"
    }
   },
   "outputs": [
    {
     "name": "stdout",
     "output_type": "stream",
     "text": [
      "root\n",
      " |-- order_id: integer (nullable = true)\n",
      " |-- user_id: integer (nullable = true)\n",
      " |-- eval_set: string (nullable = true)\n",
      " |-- order_number: integer (nullable = true)\n",
      " |-- order_dow: integer (nullable = true)\n",
      " |-- order_hour_of_day: integer (nullable = true)\n",
      " |-- days_since_prior_order: double (nullable = true)\n",
      " |-- product_id: double (nullable = true)\n",
      " |-- add_to_cart_order: double (nullable = true)\n",
      " |-- reordered: double (nullable = true)\n",
      "\n"
     ]
    }
   ],
   "source": [
    "priors_df.printSchema()"
   ]
  },
  {
   "cell_type": "markdown",
   "metadata": {},
   "source": [
    "### Number of times a user ordered a product\n",
    "### Average days since prior order\n",
    "### Number of times user reordered each product"
   ]
  },
  {
   "cell_type": "code",
   "execution_count": 24,
   "metadata": {
    "ExecuteTime": {
     "end_time": "2019-01-18T22:20:29.328982Z",
     "start_time": "2019-01-18T22:20:29.127372Z"
    }
   },
   "outputs": [
    {
     "data": {
      "text/plain": [
       "DataFrame[user_id: int, product_id: double, usr_prod_ct: bigint, num_reordered: double, avg_days_since_ord: double]"
      ]
     },
     "execution_count": 24,
     "metadata": {},
     "output_type": "execute_result"
    }
   ],
   "source": [
    "features = priors_df.groupby('user_id', 'product_id') \\\n",
    "    .agg(count('order_id').alias('usr_prod_ct'),\n",
    "         avg('days_since_prior_order').alias('avg_days_since_ord_wnull'),\n",
    "         sum('reordered').alias('num_reordered'))\n",
    "\n",
    "features = features.withColumn('avg_days_since_ord', when(col('avg_days_since_ord_wnull').isNull(),365).otherwise(col('avg_days_since_ord_wnull'))) \\\n",
    "                    .drop('user_id2', 'product_id2','avg_days_since_ord_wnull')\n",
    "\n",
    "features.cache()\n",
    "# features.show()"
   ]
  },
  {
   "cell_type": "markdown",
   "metadata": {},
   "source": [
    "### Number of times user ordered products in last 5 orders"
   ]
  },
  {
   "cell_type": "code",
   "execution_count": 25,
   "metadata": {
    "ExecuteTime": {
     "end_time": "2019-01-18T22:20:30.365451Z",
     "start_time": "2019-01-18T22:20:30.223191Z"
    }
   },
   "outputs": [],
   "source": [
    "window = Window.partitionBy('user_id') \\\n",
    "                .orderBy(desc('order_number')) \\\n",
    "                .rowsBetween(Window.unboundedPreceding, Window.currentRow)\n",
    "\n",
    "num_prod_ordl5 = priors_df.select('user_id', 'product_id', 'order_number',  \n",
    "                                  dense_rank().over(window).alias('rank')) \\\n",
    "                .filter(col('rank') <= 5) \\\n",
    "                .groupby('user_id', 'product_id') \\\n",
    "                .count() \\\n",
    "                .withColumnRenamed('user_id','user_id2') \\\n",
    "                .withColumnRenamed('product_id','product_id2')\n",
    "\n",
    "features = features.join(num_prod_ordl5, \n",
    "          on=(features.user_id == num_prod_ordl5.user_id2) \n",
    "          & (features.product_id == num_prod_ordl5.product_id2), how=\"left\")\n",
    "\n",
    "features = features.withColumn('num_prod_ordl5', when(col('count').isNull(),0).otherwise(col('count'))) \\\n",
    "                    .drop('user_id2', 'product_id2','count')\n",
    "\n",
    "\n",
    "# features.show()"
   ]
  },
  {
   "cell_type": "markdown",
   "metadata": {},
   "source": [
    "### Ratio of orders user ordered products in last 5 orders"
   ]
  },
  {
   "cell_type": "code",
   "execution_count": 26,
   "metadata": {
    "ExecuteTime": {
     "end_time": "2019-01-18T22:20:31.151990Z",
     "start_time": "2019-01-18T22:20:31.030943Z"
    }
   },
   "outputs": [],
   "source": [
    "ratio_prod_ordl5 = priors_df.select('user_id', 'product_id', 'order_number',  \n",
    "          dense_rank().over(window).alias('rank')) \\\n",
    "                .filter(col('rank') <= 5) \\\n",
    "                .groupby('user_id', 'product_id') \\\n",
    "                .agg((count('order_number')/5).alias('ratio_wnull'))\\\n",
    "                .withColumnRenamed('user_id','user_id2') \\\n",
    "                .withColumnRenamed('product_id','product_id2')\n",
    "\n",
    "features = features.join(ratio_prod_ordl5, \n",
    "          on=(features.user_id == ratio_prod_ordl5.user_id2) \n",
    "          & (features.product_id == ratio_prod_ordl5.product_id2), how=\"left\")\n",
    "\n",
    "features = features.withColumn('last5_ratio', when(col('ratio_wnull').isNull(),0).otherwise(col('ratio_wnull'))) \\\n",
    "                    .drop('user_id2', 'product_id2','ratio_wnull')\n",
    "\n",
    "# features.show()"
   ]
  },
  {
   "cell_type": "markdown",
   "metadata": {},
   "source": [
    "### Number of orders since a user last ordered a given item\n",
    "done by generating chrononological order_num from order_id, and returns max order_num (grouped by user) - max order_num (grouped by user and product)"
   ]
  },
  {
   "cell_type": "code",
   "execution_count": 27,
   "metadata": {
    "ExecuteTime": {
     "end_time": "2019-01-18T22:20:32.346722Z",
     "start_time": "2019-01-18T22:20:32.116114Z"
    }
   },
   "outputs": [],
   "source": [
    "num_ords_since_last = ss.sql(\"select distinct product_id as product_id2, user_id as user_id2,\\\n",
    "        max(order_num) over (partition by user_id) - max(order_num) over (partition by user_id, product_id) as num_ords_since_last from\\\n",
    "        (select Instacart.order_id, Instacart.user_id, Instacart.product_id, rhs.order_num\\\n",
    "        from Instacart\\\n",
    "        left join\\\n",
    "        (select order_id, user_id, row_number() over (partition by user_id order by order_id) as order_num from\\\n",
    "        (select distinct order_id, user_id from Instacart where eval_set = 'prior') as iq) as rhs\\\n",
    "        on Instacart.order_id=rhs.order_id and Instacart.user_id=rhs.user_id\\\n",
    "        where eval_set = 'prior') as iq2\")\n",
    "\n",
    "features = features.join(num_ords_since_last, \n",
    "          on=(features.user_id == num_ords_since_last.user_id2) \n",
    "          & (features.product_id == num_ords_since_last.product_id2), how=\"left\").drop('user_id2', 'product_id2')"
   ]
  },
  {
   "cell_type": "code",
   "execution_count": 28,
   "metadata": {
    "ExecuteTime": {
     "end_time": "2019-01-18T22:20:32.907489Z",
     "start_time": "2019-01-18T22:20:32.904496Z"
    }
   },
   "outputs": [],
   "source": [
    "# features.show()"
   ]
  },
  {
   "cell_type": "markdown",
   "metadata": {},
   "source": [
    "### Rate of user item reorder: # of reorders of an item / # of orders since first time ordering item.\n",
    "Get max(order_num) grouped by user_id, then min(order_num) grouped by user_id and product, subtract the two to get number of orders since first purchase of an item. Then sum(reordered) grouped by item, user to get the number of times an item was reordered by a user"
   ]
  },
  {
   "cell_type": "code",
   "execution_count": 29,
   "metadata": {
    "ExecuteTime": {
     "end_time": "2019-01-18T22:20:36.820787Z",
     "start_time": "2019-01-18T22:20:36.640577Z"
    }
   },
   "outputs": [],
   "source": [
    "reorder_rate = ss.sql(\"select product_id as product_id2, user_id as user_id2, \\\n",
    "        num_reorders/orders_since_first as reorder_rate_wnull from\\\n",
    "        (select distinct product_id, user_id,\\\n",
    "        max(order_num) over (partition by user_id) - min(order_num) over (partition by user_id, product_id) as orders_since_first,\\\n",
    "        sum(reordered) over (partition by user_id, product_id) as num_reorders from\\\n",
    "        (select Instacart.order_id, Instacart.user_id, Instacart.product_id, Instacart.reordered, rhs.order_num\\\n",
    "        from Instacart\\\n",
    "        left join\\\n",
    "        (select order_id, user_id, row_number() over (partition by user_id order by order_id) as order_num from\\\n",
    "        (select distinct order_id, user_id from Instacart where eval_set = 'prior') as iq) as rhs\\\n",
    "        on Instacart.order_id=rhs.order_id and Instacart.user_id=rhs.user_id\\\n",
    "        where eval_set = 'prior') as iq2) as iq3\")\n",
    "\n",
    "features = features.join(reorder_rate, \n",
    "          on=(features.user_id == reorder_rate.user_id2) \n",
    "          & (features.product_id == reorder_rate.product_id2), how=\"left\").drop('user_id2', 'product_id2')\n",
    "\n",
    "features = features.withColumn('reorder_rate', when(col('reorder_rate_wnull').isNull(),0).otherwise(col('reorder_rate_wnull'))) \\\n",
    "                    .drop('reorder_rate_wnull')"
   ]
  },
  {
   "cell_type": "code",
   "execution_count": 34,
   "metadata": {
    "ExecuteTime": {
     "end_time": "2019-01-18T22:35:01.373532Z",
     "start_time": "2019-01-18T22:34:23.302935Z"
    }
   },
   "outputs": [
    {
     "data": {
      "text/plain": [
       "DataFrame[user_id: int, product_id: double, usr_prod_ct: bigint, num_reordered: double, avg_days_since_ord: double, num_prod_ordl5: bigint, last5_ratio: double, num_ords_since_last: int, reorder_rate: double]"
      ]
     },
     "execution_count": 34,
     "metadata": {},
     "output_type": "execute_result"
    }
   ],
   "source": [
    "priors_df.unpersist()\n",
    "features.persist(StorageLevel.MEMORY_AND_DISK)"
   ]
  },
  {
   "cell_type": "code",
   "execution_count": 35,
   "metadata": {
    "ExecuteTime": {
     "end_time": "2019-01-18T22:40:26.852390Z",
     "start_time": "2019-01-18T22:35:08.371412Z"
    }
   },
   "outputs": [
    {
     "data": {
      "text/plain": [
       "394864"
      ]
     },
     "execution_count": 35,
     "metadata": {},
     "output_type": "execute_result"
    }
   ],
   "source": [
    "features.count()"
   ]
  },
  {
   "cell_type": "code",
   "execution_count": 36,
   "metadata": {
    "ExecuteTime": {
     "end_time": "2019-01-18T22:40:34.742560Z",
     "start_time": "2019-01-18T22:40:34.618677Z"
    }
   },
   "outputs": [
    {
     "name": "stdout",
     "output_type": "stream",
     "text": [
      "+-------+----------+-----------+-------------+------------------+--------------+-----------+-------------------+-------------------+\n",
      "|user_id|product_id|usr_prod_ct|num_reordered|avg_days_since_ord|num_prod_ordl5|last5_ratio|num_ords_since_last|       reorder_rate|\n",
      "+-------+----------+-----------+-------------+------------------+--------------+-----------+-------------------+-------------------+\n",
      "|    252|   28321.0|          1|          0.0|             365.0|             1|        0.2|                  3|                0.0|\n",
      "|    703|   48199.0|          2|          1.0|               5.5|             2|        0.4|                  3|0.14285714285714285|\n",
      "|    749|   12614.0|          1|          0.0|               7.0|             1|        0.2|                  6|                0.0|\n",
      "+-------+----------+-----------+-------------+------------------+--------------+-----------+-------------------+-------------------+\n",
      "only showing top 3 rows\n",
      "\n"
     ]
    }
   ],
   "source": [
    "features.show(3)"
   ]
  },
  {
   "cell_type": "code",
   "execution_count": 37,
   "metadata": {
    "ExecuteTime": {
     "end_time": "2019-01-18T22:40:45.860350Z",
     "start_time": "2019-01-18T22:40:38.224406Z"
    }
   },
   "outputs": [
    {
     "name": "stdout",
     "output_type": "stream",
     "text": [
      "+-------+----------+------------+\n",
      "|user_id|product_id|ordered_true|\n",
      "+-------+----------+------------+\n",
      "|    252|   28321.0|       false|\n",
      "|    703|   48199.0|       false|\n",
      "|    749|   12614.0|       false|\n",
      "+-------+----------+------------+\n",
      "only showing top 3 rows\n",
      "\n"
     ]
    }
   ],
   "source": [
    "feature_target_df.show(3)"
   ]
  },
  {
   "cell_type": "code",
   "execution_count": 38,
   "metadata": {
    "ExecuteTime": {
     "end_time": "2019-01-18T22:40:54.457382Z",
     "start_time": "2019-01-18T22:40:45.863342Z"
    }
   },
   "outputs": [
    {
     "data": {
      "text/plain": [
       "394864"
      ]
     },
     "execution_count": 38,
     "metadata": {},
     "output_type": "execute_result"
    }
   ],
   "source": [
    "feature_target_df.count()"
   ]
  },
  {
   "cell_type": "code",
   "execution_count": 39,
   "metadata": {
    "ExecuteTime": {
     "end_time": "2019-01-18T22:40:54.529190Z",
     "start_time": "2019-01-18T22:40:54.458379Z"
    }
   },
   "outputs": [],
   "source": [
    "feature_target_df2 = feature_target_df.withColumnRenamed('user_id', 'user_id2')\\\n",
    "                                      .withColumnRenamed('product_id', 'product_id2')\n",
    "final_df = features.join(feature_target_df2, \n",
    "          on=(features.user_id == feature_target_df2.user_id2) \n",
    "          & (features.product_id == feature_target_df2.product_id2), how=\"left\")\n",
    "final_df = final_df.drop('user_id2', 'product_id2')"
   ]
  },
  {
   "cell_type": "code",
   "execution_count": 40,
   "metadata": {
    "ExecuteTime": {
     "end_time": "2019-01-18T22:42:14.218673Z",
     "start_time": "2019-01-18T22:41:35.092367Z"
    }
   },
   "outputs": [
    {
     "data": {
      "text/plain": [
       "DataFrame[user_id: int, product_id: double, usr_prod_ct: bigint, num_reordered: double, avg_days_since_ord: double, num_prod_ordl5: bigint, last5_ratio: double, num_ords_since_last: int, reorder_rate: double, ordered_true: boolean]"
      ]
     },
     "execution_count": 40,
     "metadata": {},
     "output_type": "execute_result"
    }
   ],
   "source": [
    "features.unpersist()\n",
    "final_df.persist(StorageLevel.MEMORY_AND_DISK)"
   ]
  },
  {
   "cell_type": "code",
   "execution_count": 41,
   "metadata": {
    "ExecuteTime": {
     "end_time": "2019-01-18T22:47:32.523659Z",
     "start_time": "2019-01-18T22:42:14.221638Z"
    }
   },
   "outputs": [
    {
     "name": "stdout",
     "output_type": "stream",
     "text": [
      "+-------+----------+-----------+-------------+------------------+--------------+-----------+-------------------+-------------------+------------+\n",
      "|user_id|product_id|usr_prod_ct|num_reordered|avg_days_since_ord|num_prod_ordl5|last5_ratio|num_ords_since_last|       reorder_rate|ordered_true|\n",
      "+-------+----------+-----------+-------------+------------------+--------------+-----------+-------------------+-------------------+------------+\n",
      "|    252|   28321.0|          1|          0.0|             365.0|             1|        0.2|                  3|                0.0|       false|\n",
      "|    703|   48199.0|          2|          1.0|               5.5|             2|        0.4|                  3|0.14285714285714285|       false|\n",
      "|    749|   12614.0|          1|          0.0|               7.0|             1|        0.2|                  6|                0.0|       false|\n",
      "+-------+----------+-----------+-------------+------------------+--------------+-----------+-------------------+-------------------+------------+\n",
      "only showing top 3 rows\n",
      "\n"
     ]
    }
   ],
   "source": [
    "final_df.show(3)"
   ]
  },
  {
   "cell_type": "code",
   "execution_count": 42,
   "metadata": {
    "ExecuteTime": {
     "end_time": "2019-01-18T22:47:32.531650Z",
     "start_time": "2019-01-18T22:47:32.525653Z"
    }
   },
   "outputs": [
    {
     "name": "stdout",
     "output_type": "stream",
     "text": [
      "root\n",
      " |-- user_id: integer (nullable = true)\n",
      " |-- product_id: double (nullable = true)\n",
      " |-- usr_prod_ct: long (nullable = false)\n",
      " |-- num_reordered: double (nullable = true)\n",
      " |-- avg_days_since_ord: double (nullable = true)\n",
      " |-- num_prod_ordl5: long (nullable = true)\n",
      " |-- last5_ratio: double (nullable = true)\n",
      " |-- num_ords_since_last: integer (nullable = true)\n",
      " |-- reorder_rate: double (nullable = true)\n",
      " |-- ordered_true: boolean (nullable = true)\n",
      "\n"
     ]
    }
   ],
   "source": [
    "final_df.printSchema()"
   ]
  },
  {
   "cell_type": "markdown",
   "metadata": {},
   "source": [
    "# Random Forest Modeling"
   ]
  },
  {
   "cell_type": "code",
   "execution_count": 43,
   "metadata": {
    "ExecuteTime": {
     "end_time": "2019-01-18T22:51:27.066787Z",
     "start_time": "2019-01-18T22:51:26.909030Z"
    }
   },
   "outputs": [],
   "source": [
    "from pyspark.sql import SQLContext\n",
    "from pyspark.ml.feature import VectorAssembler\n",
    "from pyspark.ml.evaluation import MulticlassClassificationEvaluator\n",
    "from pyspark.ml.classification import RandomForestClassifier"
   ]
  },
  {
   "cell_type": "code",
   "execution_count": 44,
   "metadata": {
    "ExecuteTime": {
     "end_time": "2019-01-18T22:52:48.376965Z",
     "start_time": "2019-01-18T22:51:28.119139Z"
    }
   },
   "outputs": [
    {
     "data": {
      "text/plain": [
       "DataFrame[features: vector, label: int]"
      ]
     },
     "execution_count": 44,
     "metadata": {},
     "output_type": "execute_result"
    }
   ],
   "source": [
    "dfnum = final_df.withColumn('ordered_true',final_df['ordered_true'].cast(IntegerType()))\n",
    "# dfnum.show(3)\n",
    "# Create feature vector and label column.\n",
    "va = VectorAssembler(outputCol=\"features\", inputCols=dfnum.columns[0:-1]) #except the last col.\n",
    "dfpoints = va.transform(dfnum).select(\"features\", \"ordered_true\").withColumnRenamed('ordered_true', 'label')\n",
    "# dfpoints.show(3)\n",
    "#Divide the dataset into training and testing sets.\n",
    "splits = dfpoints.randomSplit([0.8, 0.2])\n",
    "carttrain = splits[0]\n",
    "cartvalid = splits[1]\n",
    "# Cache the data. \n",
    "# cache() : the algorithm is interative and training and data sets are going to be reused many times.\n",
    "final_df.unpersist()\n",
    "carttrain.cache()\n",
    "cartvalid.cache()\n",
    "# carttrain.show(3)"
   ]
  },
  {
   "cell_type": "code",
   "execution_count": 45,
   "metadata": {
    "ExecuteTime": {
     "end_time": "2019-01-18T22:59:02.835209Z",
     "start_time": "2019-01-18T22:52:48.378940Z"
    }
   },
   "outputs": [],
   "source": [
    "# Create a RandomForestClassifer and build a model using training dataset.\n",
    "rf = RandomForestClassifier(maxDepth=10)\n",
    "rfmodel = rf.fit(carttrain)"
   ]
  },
  {
   "cell_type": "code",
   "execution_count": 46,
   "metadata": {
    "ExecuteTime": {
     "end_time": "2019-01-18T23:04:26.245668Z",
     "start_time": "2019-01-18T22:59:02.836206Z"
    }
   },
   "outputs": [
    {
     "name": "stdout",
     "output_type": "stream",
     "text": [
      "+--------------------+-----+--------------------+--------------------+----------+\n",
      "|            features|label|       rawPrediction|         probability|prediction|\n",
      "+--------------------+-----+--------------------+--------------------+----------+\n",
      "|(9,[0,1,2,4],[487...|    0|[19.4076663222311...|[0.97038331611155...|       0.0|\n",
      "|(9,[0,1,2,4],[565...|    0|[19.4510245957505...|[0.97255122978752...|       0.0|\n",
      "|(9,[0,1,2,4],[985...|    0|[19.5084176413045...|[0.97542088206522...|       0.0|\n",
      "|(9,[0,1,2,4],[124...|    0|[19.5127240763142...|[0.97563620381571...|       0.0|\n",
      "|(9,[0,1,2,4],[154...|    0|[19.4193516723237...|[0.97096758361618...|       0.0|\n",
      "|(9,[0,1,2,4],[200...|    0|[19.4594296795297...|[0.97297148397648...|       0.0|\n",
      "|(9,[0,1,2,7],[103...|    0|[19.7711117130909...|[0.98855558565454...|       0.0|\n",
      "|(9,[0,1,2,7],[135...|    0|[19.5017467871574...|[0.97508733935787...|       0.0|\n",
      "|[1486.0,39275.0,1...|    0|[19.3491773807736...|[0.96745886903868...|       0.0|\n",
      "|[1952.0,9477.0,1....|    1|[17.7334731646449...|[0.88667365823224...|       0.0|\n",
      "|[3194.0,31717.0,1...|    1|[19.5965691044417...|[0.97982845522208...|       0.0|\n",
      "|[3838.0,38666.0,3...|    0|[18.9801293975879...|[0.94900646987939...|       0.0|\n",
      "|[3914.0,17758.0,2...|    1|[13.0555605707007...|[0.65277802853503...|       0.0|\n",
      "|[5541.0,9076.0,3....|    0|[19.1113824439109...|[0.95556912219554...|       0.0|\n",
      "|[5878.0,13176.0,2...|    0|[13.3944482820568...|[0.66972241410284...|       0.0|\n",
      "|[6215.0,22504.0,1...|    0|[18.1404646797232...|[0.90702323398616...|       0.0|\n",
      "|[7259.0,44632.0,7...|    0|[16.6338085935936...|[0.83169042967968...|       0.0|\n",
      "|[7626.0,32331.0,1...|    0|[17.8855113592061...|[0.89427556796030...|       0.0|\n",
      "|[7684.0,17284.0,1...|    0|[19.4769722347145...|[0.97384861173572...|       0.0|\n",
      "|[8239.0,8993.0,3....|    0|[16.8270615414392...|[0.84135307707196...|       0.0|\n",
      "+--------------------+-----+--------------------+--------------------+----------+\n",
      "only showing top 20 rows\n",
      "\n",
      "F1 = 0.8569\n"
     ]
    }
   ],
   "source": [
    "# Evaluate the model using MulticlassClassificationEvaluator and test data.\n",
    "# Caclulate F1 score as evaluation metric.\n",
    "rfpredicts = rfmodel.transform(cartvalid)\n",
    "rfpredicts.show() # this is the DF that shows the model workings\n",
    "evaluator = MulticlassClassificationEvaluator(labelCol=\"label\", predictionCol=\"prediction\", metricName=\"f1\")\n",
    "f1_score = evaluator.evaluate(rfpredicts)\n",
    "print('F1 = %.4f' % f1_score)\n",
    "# Unpersist the datasets."
   ]
  },
  {
   "cell_type": "code",
   "execution_count": null,
   "metadata": {},
   "outputs": [],
   "source": [
    "carttrain.unpersist()\n",
    "cartvalid.unpersist()\n",
    "# Stop SparkContext & SparkSession."
   ]
  },
  {
   "cell_type": "code",
   "execution_count": null,
   "metadata": {},
   "outputs": [],
   "source": []
  },
  {
   "cell_type": "code",
   "execution_count": null,
   "metadata": {},
   "outputs": [],
   "source": []
  },
  {
   "cell_type": "code",
   "execution_count": null,
   "metadata": {},
   "outputs": [],
   "source": []
  },
  {
   "cell_type": "code",
   "execution_count": null,
   "metadata": {},
   "outputs": [],
   "source": []
  },
  {
   "cell_type": "code",
   "execution_count": null,
   "metadata": {},
   "outputs": [],
   "source": [
    "sc.stop()\n",
    "ss.stop()"
   ]
  }
 ],
 "metadata": {
  "kernelspec": {
   "display_name": "Python 3",
   "language": "python",
   "name": "python3"
  },
  "language_info": {
   "codemirror_mode": {
    "name": "ipython",
    "version": 3
   },
   "file_extension": ".py",
   "mimetype": "text/x-python",
   "name": "python",
   "nbconvert_exporter": "python",
   "pygments_lexer": "ipython3",
   "version": "3.6.6"
  }
 },
 "nbformat": 4,
 "nbformat_minor": 2
}
