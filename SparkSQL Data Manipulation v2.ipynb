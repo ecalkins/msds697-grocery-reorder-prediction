{
 "cells": [
  {
   "cell_type": "code",
   "execution_count": 1,
   "metadata": {
    "ExecuteTime": {
     "end_time": "2019-01-18T00:13:52.100532Z",
     "start_time": "2019-01-18T00:13:50.955393Z"
    }
   },
   "outputs": [],
   "source": [
    "from pyspark import SparkContext, SparkConf\n",
    "from pyspark.sql import SparkSession\n",
    "from pyspark.sql.types import *\n",
    "from pyspark.sql.functions import asc, desc, dense_rank, col, when, count, avg, sum\n",
    "from pyspark.sql.window import Window"
   ]
  },
  {
   "cell_type": "code",
   "execution_count": 2,
   "metadata": {
    "ExecuteTime": {
     "end_time": "2019-01-18T00:14:08.125808Z",
     "start_time": "2019-01-18T00:13:52.100532Z"
    }
   },
   "outputs": [],
   "source": [
    "sc = SparkContext.getOrCreate()\n",
    "ss = SparkSession.builder.getOrCreate()"
   ]
  },
  {
   "cell_type": "code",
   "execution_count": 3,
   "metadata": {
    "ExecuteTime": {
     "end_time": "2019-01-18T00:14:08.137776Z",
     "start_time": "2019-01-18T00:14:08.127803Z"
    }
   },
   "outputs": [],
   "source": [
    "schema = StructType([StructField(\"order_id\", IntegerType(), True),\n",
    "StructField(\"user_id\", IntegerType(), True),\n",
    "StructField(\"eval_set\", StringType(), True),\n",
    "StructField(\"order_number\", IntegerType(), True),\n",
    "StructField(\"order_dow\", IntegerType(), True),\n",
    "StructField(\"order_hour_of_day\", IntegerType(), True),\n",
    "StructField(\"days_since_prior_order\", IntegerType(), True),\n",
    "StructField(\"product_id\", IntegerType(), True),\n",
    "StructField(\"add_to_cart_order\", IntegerType(), True),\n",
    "StructField(\"reordered\", IntegerType(), True),\n",
    "StructField(\"product_name\", StringType(), True),\n",
    "StructField(\"aisle_id\", IntegerType(), True),\n",
    "StructField(\"department_id\", IntegerType(), True),\n",
    "StructField(\"department\", StringType(), True),\n",
    "StructField(\"aisle\", StringType(), True)\n",
    "])\n",
    "# did not work with ss.read.csv\n",
    "# inferSchema accomplishes the same col types"
   ]
  },
  {
   "cell_type": "code",
   "execution_count": 4,
   "metadata": {
    "ExecuteTime": {
     "end_time": "2019-01-18T00:14:37.076728Z",
     "start_time": "2019-01-18T00:14:08.140774Z"
    }
   },
   "outputs": [],
   "source": [
    "df = ss.read.csv('../consolidated_df.csv', header=True, inferSchema=True)"
   ]
  },
  {
   "cell_type": "code",
   "execution_count": 5,
   "metadata": {
    "ExecuteTime": {
     "end_time": "2019-01-18T00:14:37.102318Z",
     "start_time": "2019-01-18T00:14:37.078349Z"
    }
   },
   "outputs": [
    {
     "name": "stdout",
     "output_type": "stream",
     "text": [
      "root\n",
      " |-- order_id: integer (nullable = true)\n",
      " |-- user_id: integer (nullable = true)\n",
      " |-- eval_set: string (nullable = true)\n",
      " |-- order_number: integer (nullable = true)\n",
      " |-- order_dow: integer (nullable = true)\n",
      " |-- order_hour_of_day: integer (nullable = true)\n",
      " |-- days_since_prior_order: double (nullable = true)\n",
      " |-- product_id: double (nullable = true)\n",
      " |-- add_to_cart_order: double (nullable = true)\n",
      " |-- reordered: double (nullable = true)\n",
      " |-- product_name: string (nullable = true)\n",
      " |-- aisle_id: string (nullable = true)\n",
      " |-- department_id: string (nullable = true)\n",
      " |-- department: string (nullable = true)\n",
      " |-- aisle: string (nullable = true)\n",
      "\n"
     ]
    }
   ],
   "source": [
    "df.printSchema()"
   ]
  },
  {
   "cell_type": "code",
   "execution_count": 17,
   "metadata": {
    "ExecuteTime": {
     "end_time": "2019-01-18T00:23:54.841762Z",
     "start_time": "2019-01-18T00:23:09.365224Z"
    }
   },
   "outputs": [],
   "source": [
    "df.write.saveAsTable('Instacart') # saving as table for complex queries"
   ]
  },
  {
   "cell_type": "markdown",
   "metadata": {},
   "source": [
    "### Reference Stats"
   ]
  },
  {
   "cell_type": "code",
   "execution_count": 6,
   "metadata": {
    "ExecuteTime": {
     "end_time": "2019-01-18T00:15:08.178569Z",
     "start_time": "2019-01-18T00:14:37.103279Z"
    }
   },
   "outputs": [
    {
     "data": {
      "text/plain": [
       "13307953"
      ]
     },
     "execution_count": 6,
     "metadata": {},
     "output_type": "execute_result"
    }
   ],
   "source": [
    "# Number of unique prior user_id-product_id combinations\n",
    "df.filter(\"eval_set == 'prior'\").groupby('user_id', 'product_id').count().count()"
   ]
  },
  {
   "cell_type": "code",
   "execution_count": 7,
   "metadata": {
    "ExecuteTime": {
     "end_time": "2019-01-18T00:15:23.612535Z",
     "start_time": "2019-01-18T00:15:08.180563Z"
    }
   },
   "outputs": [
    {
     "data": {
      "text/plain": [
       "1384617"
      ]
     },
     "execution_count": 7,
     "metadata": {},
     "output_type": "execute_result"
    }
   ],
   "source": [
    "# Number of train (order_id-product_id) rows\n",
    "df.filter(\"eval_set == 'train'\").count()"
   ]
  },
  {
   "cell_type": "code",
   "execution_count": 8,
   "metadata": {
    "ExecuteTime": {
     "end_time": "2019-01-18T00:15:39.262702Z",
     "start_time": "2019-01-18T00:15:23.614530Z"
    }
   },
   "outputs": [
    {
     "data": {
      "text/plain": [
       "32434489"
      ]
     },
     "execution_count": 8,
     "metadata": {},
     "output_type": "execute_result"
    }
   ],
   "source": [
    "# Number of prior (order_id-product_id) rows\n",
    "df.filter(\"eval_set == 'prior'\").count()"
   ]
  },
  {
   "cell_type": "markdown",
   "metadata": {},
   "source": [
    "### Constructing Target Variable"
   ]
  },
  {
   "cell_type": "code",
   "execution_count": 9,
   "metadata": {
    "ExecuteTime": {
     "end_time": "2019-01-18T00:15:39.319577Z",
     "start_time": "2019-01-18T00:15:39.263698Z"
    }
   },
   "outputs": [],
   "source": [
    "last_orders_df = df.filter(\"eval_set == 'train'\").select('user_id', 'product_id') \\\n",
    "    .withColumnRenamed('user_id','user_id2') \\\n",
    "    .withColumnRenamed('product_id','product_id2')\n",
    "\n",
    "final_index_df = df.filter(\"eval_set == 'prior'\").select(\n",
    "    'user_id', 'product_id').distinct()"
   ]
  },
  {
   "cell_type": "code",
   "execution_count": 10,
   "metadata": {
    "ExecuteTime": {
     "end_time": "2019-01-18T00:16:30.640771Z",
     "start_time": "2019-01-18T00:15:39.320546Z"
    }
   },
   "outputs": [
    {
     "name": "stdout",
     "output_type": "stream",
     "text": [
      "+-------+----------+--------+-----------+\n",
      "|user_id|product_id|user_id2|product_id2|\n",
      "+-------+----------+--------+-----------+\n",
      "|      7|    8277.0|    null|       null|\n",
      "|      7|   27156.0|    null|       null|\n",
      "|      7|   40852.0|       7|    40852.0|\n",
      "|      8|   34358.0|    null|       null|\n",
      "|     14|   40540.0|    null|       null|\n",
      "|     18|   40723.0|    null|       null|\n",
      "|     27|    5322.0|    null|       null|\n",
      "|     31|   21131.0|    null|       null|\n",
      "|     31|   45104.0|    null|       null|\n",
      "|     32|   49478.0|    null|       null|\n",
      "|     38|   11078.0|    null|       null|\n",
      "|     41|   19678.0|    null|       null|\n",
      "|     42|    1263.0|    null|       null|\n",
      "|     52|   35561.0|    null|       null|\n",
      "|     58|   43115.0|    null|       null|\n",
      "|     61|    6187.0|    null|       null|\n",
      "|     63|   38061.0|    null|       null|\n",
      "|     71|   41408.0|    null|       null|\n",
      "|     79|   16616.0|      79|    16616.0|\n",
      "|     79|   28204.0|    null|       null|\n",
      "+-------+----------+--------+-----------+\n",
      "only showing top 20 rows\n",
      "\n"
     ]
    }
   ],
   "source": [
    "#join leaves out new products never ordered before in train order\n",
    "df3 = final_index_df \\\n",
    "    .join(last_orders_df, \n",
    "          on=(final_index_df.user_id == last_orders_df.user_id2) \n",
    "          & (final_index_df.product_id == last_orders_df.product_id2), how=\"left\")\n",
    "# df3.show()"
   ]
  },
  {
   "cell_type": "code",
   "execution_count": 11,
   "metadata": {
    "ExecuteTime": {
     "end_time": "2019-01-18T00:17:22.257963Z",
     "start_time": "2019-01-18T00:16:30.642768Z"
    }
   },
   "outputs": [
    {
     "name": "stdout",
     "output_type": "stream",
     "text": [
      "+-------+----------+------------+\n",
      "|user_id|product_id|ordered_true|\n",
      "+-------+----------+------------+\n",
      "|      7|    8277.0|       false|\n",
      "|      7|   27156.0|       false|\n",
      "|      7|   40852.0|        true|\n",
      "|      8|   34358.0|       false|\n",
      "|     14|   40540.0|       false|\n",
      "|     18|   40723.0|       false|\n",
      "|     27|    5322.0|       false|\n",
      "|     31|   21131.0|       false|\n",
      "|     31|   45104.0|       false|\n",
      "|     32|   49478.0|       false|\n",
      "|     38|   11078.0|       false|\n",
      "|     41|   19678.0|       false|\n",
      "|     42|    1263.0|       false|\n",
      "|     52|   35561.0|       false|\n",
      "|     58|   43115.0|       false|\n",
      "|     61|    6187.0|       false|\n",
      "|     63|   38061.0|       false|\n",
      "|     71|   41408.0|       false|\n",
      "|     79|   16616.0|        true|\n",
      "|     79|   28204.0|       false|\n",
      "+-------+----------+------------+\n",
      "only showing top 20 rows\n",
      "\n"
     ]
    }
   ],
   "source": [
    "feature_target_df = df3.withColumn('ordered_true', df3.user_id2.isNotNull()) \\\n",
    "    .select('user_id','product_id','ordered_true')\n",
    "# feature_target_df.show()"
   ]
  },
  {
   "cell_type": "code",
   "execution_count": 12,
   "metadata": {
    "ExecuteTime": {
     "end_time": "2019-01-18T00:17:22.324785Z",
     "start_time": "2019-01-18T00:17:22.258960Z"
    }
   },
   "outputs": [
    {
     "data": {
      "text/plain": [
       "DataFrame[order_id: int, user_id: int, eval_set: string, order_number: int, order_dow: int, order_hour_of_day: int, days_since_prior_order: double, product_id: double, add_to_cart_order: double, reordered: double, product_name: string, aisle_id: string, department_id: string, department: string, aisle: string]"
      ]
     },
     "execution_count": 12,
     "metadata": {},
     "output_type": "execute_result"
    }
   ],
   "source": [
    "priors_df = df.filter(\"eval_set == 'prior'\")\n",
    "\n",
    "priors_df.cache()"
   ]
  },
  {
   "cell_type": "markdown",
   "metadata": {},
   "source": [
    "### Number of times a user ordered a product\n",
    "### Average days since prior order\n",
    "### Number of times user reordered each product"
   ]
  },
  {
   "cell_type": "code",
   "execution_count": 13,
   "metadata": {
    "ExecuteTime": {
     "end_time": "2019-01-18T00:18:37.072535Z",
     "start_time": "2019-01-18T00:17:22.325783Z"
    }
   },
   "outputs": [
    {
     "name": "stdout",
     "output_type": "stream",
     "text": [
      "+-------+----------+-----------+--------------+------------------+\n",
      "|user_id|product_id|usr_prod_ct|sum(reordered)|avg_days_since_ord|\n",
      "+-------+----------+-----------+--------------+------------------+\n",
      "|    138|   22046.0|         10|           9.0|11.666666666666666|\n",
      "|    530|    2078.0|          1|           0.0|             365.0|\n",
      "|    710|   23634.0|          6|           5.0|              20.0|\n",
      "|    745|   17454.0|          1|           0.0|             365.0|\n",
      "|    813|   27125.0|          1|           0.0|             365.0|\n",
      "|    951|   24929.0|          1|           0.0|             365.0|\n",
      "|   1024|   17902.0|         59|          58.0|0.6949152542372882|\n",
      "|   1038|   11448.0|          1|           0.0|             365.0|\n",
      "|   1045|   45007.0|          1|           0.0|             365.0|\n",
      "|   1055|   27521.0|          1|           0.0|             365.0|\n",
      "|   1128|   35383.0|          2|           1.0|              17.0|\n",
      "|   1407|   43452.0|          4|           3.0|23.333333333333332|\n",
      "|   1588|   34509.0|          1|           0.0|             365.0|\n",
      "|   1734|   40738.0|          1|           0.0|             365.0|\n",
      "|   1834|   14218.0|          1|           0.0|             365.0|\n",
      "|   1859|   37250.0|         35|          34.0| 9.911764705882353|\n",
      "|   2000|   32331.0|          9|           8.0|             8.125|\n",
      "|   2051|    7158.0|          3|           2.0|              20.5|\n",
      "|   2473|   41290.0|         17|          16.0|           14.4375|\n",
      "|   2495|   46709.0|          2|           1.0|               3.0|\n",
      "+-------+----------+-----------+--------------+------------------+\n",
      "only showing top 20 rows\n",
      "\n"
     ]
    }
   ],
   "source": [
    "features = priors_df.groupby('user_id', 'product_id') \\\n",
    "    .agg(count('order_id').alias('usr_prod_ct'),\n",
    "         avg('days_since_prior_order').alias('avg_days_since_ord_wnull'),\n",
    "         sum('reordered').alias('num_reordered'))\n",
    "\n",
    "features = features.withColumn('avg_days_since_ord', when(col('avg_days_since_ord_wnull').isNull(),365).otherwise(col('avg_days_since_ord_wnull'))) \\\n",
    "                    .drop('user_id2', 'product_id2','avg_days_since_ord_wnull')\n",
    "\n",
    "features.cache()\n",
    "# features.show()"
   ]
  },
  {
   "cell_type": "markdown",
   "metadata": {},
   "source": [
    "### Number of times user ordered products in last 5 orders"
   ]
  },
  {
   "cell_type": "code",
   "execution_count": 14,
   "metadata": {
    "ExecuteTime": {
     "end_time": "2019-01-18T00:20:14.663982Z",
     "start_time": "2019-01-18T00:18:56.358367Z"
    }
   },
   "outputs": [
    {
     "name": "stdout",
     "output_type": "stream",
     "text": [
      "+-------+----------+-----------+--------------+------------------+--------------+\n",
      "|user_id|product_id|usr_prod_ct|sum(reordered)|avg_days_since_ord|num_prod_ordl5|\n",
      "+-------+----------+-----------+--------------+------------------+--------------+\n",
      "|      7|    8277.0|          3|           2.0|11.666666666666666|             1|\n",
      "|      7|   27156.0|          1|           0.0|               7.0|             1|\n",
      "|      7|   40852.0|         13|          12.0| 12.76923076923077|             3|\n",
      "|      8|   34358.0|          2|           1.0|              30.0|             2|\n",
      "|     14|   40540.0|          1|           0.0|              30.0|             0|\n",
      "|     18|   40723.0|          1|           0.0|             365.0|             0|\n",
      "|     27|    5322.0|          1|           0.0|               4.0|             0|\n",
      "|     31|   21131.0|          1|           0.0|               6.0|             0|\n",
      "|     31|   45104.0|          1|           0.0|               8.0|             1|\n",
      "|     32|   49478.0|          1|           0.0|              20.0|             1|\n",
      "|     38|   11078.0|          1|           0.0|              30.0|             1|\n",
      "|     41|   19678.0|          1|           0.0|             365.0|             1|\n",
      "|     42|    1263.0|          3|           2.0|15.333333333333334|             1|\n",
      "|     52|   35561.0|          3|           2.0|               8.5|             1|\n",
      "|     58|   43115.0|          1|           0.0|               3.0|             0|\n",
      "|     61|    6187.0|          1|           0.0|             365.0|             1|\n",
      "|     63|   38061.0|          1|           0.0|               2.0|             0|\n",
      "|     71|   41408.0|          6|           5.0|              11.6|             1|\n",
      "|     79|   16616.0|          1|           0.0|             365.0|             0|\n",
      "|     79|   28204.0|          1|           0.0|               7.0|             0|\n",
      "+-------+----------+-----------+--------------+------------------+--------------+\n",
      "only showing top 20 rows\n",
      "\n"
     ]
    }
   ],
   "source": [
    "window = Window.partitionBy('user_id') \\\n",
    "                .orderBy(desc('order_number')) \\\n",
    "                .rowsBetween(Window.unboundedPreceding, Window.currentRow)\n",
    "\n",
    "num_prod_ordl5 = priors_df.select('user_id', 'product_id', 'order_number',  \n",
    "                                  dense_rank().over(window).alias('rank')) \\\n",
    "                .filter(col('rank') <= 5) \\\n",
    "                .groupby('user_id', 'product_id') \\\n",
    "                .count() \\\n",
    "                .withColumnRenamed('user_id','user_id2') \\\n",
    "                .withColumnRenamed('product_id','product_id2')\n",
    "\n",
    "features = features.join(num_prod_ordl5, \n",
    "          on=(features.user_id == num_prod_ordl5.user_id2) \n",
    "          & (features.product_id == num_prod_ordl5.product_id2), how=\"left\")\n",
    "\n",
    "features = features.withColumn('num_prod_ordl5', when(col('count').isNull(),0).otherwise(col('count'))) \\\n",
    "                    .drop('user_id2', 'product_id2','count')\n",
    "\n",
    "\n",
    "# features.show()"
   ]
  },
  {
   "cell_type": "markdown",
   "metadata": {},
   "source": [
    "### Ratio of orders user ordered products in last 5 orders"
   ]
  },
  {
   "cell_type": "code",
   "execution_count": 15,
   "metadata": {
    "ExecuteTime": {
     "end_time": "2019-01-18T00:22:29.253615Z",
     "start_time": "2019-01-18T00:20:14.666972Z"
    }
   },
   "outputs": [
    {
     "name": "stdout",
     "output_type": "stream",
     "text": [
      "+-------+----------+-----------+--------------+------------------+--------------+-----------+\n",
      "|user_id|product_id|usr_prod_ct|sum(reordered)|avg_days_since_ord|num_prod_ordl5|last5_ratio|\n",
      "+-------+----------+-----------+--------------+------------------+--------------+-----------+\n",
      "|      7|    8277.0|          3|           2.0|11.666666666666666|             1|        0.2|\n",
      "|      7|   27156.0|          1|           0.0|               7.0|             1|        0.2|\n",
      "|      7|   40852.0|         13|          12.0| 12.76923076923077|             3|        0.6|\n",
      "|      8|   34358.0|          2|           1.0|              30.0|             2|        0.4|\n",
      "|     14|   40540.0|          1|           0.0|              30.0|             0|        0.0|\n",
      "|     18|   40723.0|          1|           0.0|             365.0|             0|        0.0|\n",
      "|     27|    5322.0|          1|           0.0|               4.0|             0|        0.0|\n",
      "|     31|   21131.0|          1|           0.0|               6.0|             0|        0.0|\n",
      "|     31|   45104.0|          1|           0.0|               8.0|             1|        0.2|\n",
      "|     32|   49478.0|          1|           0.0|              20.0|             1|        0.2|\n",
      "|     38|   11078.0|          1|           0.0|              30.0|             1|        0.2|\n",
      "|     41|   19678.0|          1|           0.0|             365.0|             1|        0.2|\n",
      "|     42|    1263.0|          3|           2.0|15.333333333333334|             1|        0.2|\n",
      "|     52|   35561.0|          3|           2.0|               8.5|             1|        0.2|\n",
      "|     58|   43115.0|          1|           0.0|               3.0|             0|        0.0|\n",
      "|     61|    6187.0|          1|           0.0|             365.0|             1|        0.2|\n",
      "|     63|   38061.0|          1|           0.0|               2.0|             0|        0.0|\n",
      "|     71|   41408.0|          6|           5.0|              11.6|             1|        0.2|\n",
      "|     79|   16616.0|          1|           0.0|             365.0|             0|        0.0|\n",
      "|     79|   28204.0|          1|           0.0|               7.0|             0|        0.0|\n",
      "+-------+----------+-----------+--------------+------------------+--------------+-----------+\n",
      "only showing top 20 rows\n",
      "\n"
     ]
    }
   ],
   "source": [
    "ratio_prod_ordl5 = priors_df.select('user_id', 'product_id', 'order_number',  \n",
    "          dense_rank().over(window).alias('rank')) \\\n",
    "                .filter(col('rank') <= 5) \\\n",
    "                .groupby('user_id', 'product_id') \\\n",
    "                .agg((count('order_number')/5).alias('ratio_wnull'))\\\n",
    "                .withColumnRenamed('user_id','user_id2') \\\n",
    "                .withColumnRenamed('product_id','product_id2')\n",
    "\n",
    "features = features.join(ratio_prod_ordl5, \n",
    "          on=(features.user_id == ratio_prod_ordl5.user_id2) \n",
    "          & (features.product_id == ratio_prod_ordl5.product_id2), how=\"left\")\n",
    "\n",
    "features = features.withColumn('last5_ratio', when(col('ratio_wnull').isNull(),0).otherwise(col('ratio_wnull'))) \\\n",
    "                    .drop('user_id2', 'product_id2','ratio_wnull')\n",
    "\n",
    "# features.show()"
   ]
  },
  {
   "cell_type": "markdown",
   "metadata": {},
   "source": [
    "### Number of orders since a user last ordered a given item\n",
    "done by generating chrononological order_num from order_id, and returns max order_num (grouped by user) - max order_num (grouped by user and product)"
   ]
  },
  {
   "cell_type": "code",
   "execution_count": 22,
   "metadata": {
    "ExecuteTime": {
     "end_time": "2019-01-18T00:39:41.090139Z",
     "start_time": "2019-01-18T00:39:41.017306Z"
    }
   },
   "outputs": [],
   "source": [
    "num_ords_since_last = ss.sql(\"select distinct product_id as product_id2, user_id as user_id2,\\\n",
    "        max(order_num) over (partition by user_id) - max(order_num) over (partition by user_id, product_id) as num_ords_since_last from\\\n",
    "        (select Instacart.order_id, Instacart.user_id, Instacart.product_id, rhs.order_num\\\n",
    "        from Instacart\\\n",
    "        left join\\\n",
    "        (select order_id, user_id, row_number() over (partition by user_id order by order_id) as order_num from\\\n",
    "        (select distinct order_id, user_id from Instacart where eval_set = 'prior') as iq) as rhs\\\n",
    "        on Instacart.order_id=rhs.order_id and Instacart.user_id=rhs.user_id\\\n",
    "        where eval_set = 'prior') as iq2\")\n",
    "\n",
    "features = features.join(num_ords_since_last, \n",
    "          on=(features.user_id == num_ords_since_last.user_id2) \n",
    "          & (features.product_id == num_ords_since_last.product_id2), how=\"left\")\n",
    "\n",
    "features = features.drop('user_id2', 'product_id2')"
   ]
  },
  {
   "cell_type": "code",
   "execution_count": 23,
   "metadata": {
    "ExecuteTime": {
     "end_time": "2019-01-18T00:47:47.282538Z",
     "start_time": "2019-01-18T00:39:54.758803Z"
    }
   },
   "outputs": [
    {
     "name": "stdout",
     "output_type": "stream",
     "text": [
      "+-------+----------+-----------+--------------+------------------+--------------+-----------+-------------------+\n",
      "|user_id|product_id|usr_prod_ct|sum(reordered)|avg_days_since_ord|num_prod_ordl5|last5_ratio|num_ords_since_last|\n",
      "+-------+----------+-----------+--------------+------------------+--------------+-----------+-------------------+\n",
      "|      7|    8277.0|          3|           2.0|11.666666666666666|             1|        0.2|                  2|\n",
      "|      7|   27156.0|          1|           0.0|               7.0|             1|        0.2|                  4|\n",
      "|      7|   40852.0|         13|          12.0| 12.76923076923077|             3|        0.6|                  0|\n",
      "|      8|   34358.0|          2|           1.0|              30.0|             2|        0.4|                  0|\n",
      "|     14|   40540.0|          1|           0.0|              30.0|             0|        0.0|                  4|\n",
      "|     18|   40723.0|          1|           0.0|             365.0|             0|        0.0|                  2|\n",
      "|     27|    5322.0|          1|           0.0|               4.0|             0|        0.0|                 76|\n",
      "|     31|   21131.0|          1|           0.0|               6.0|             0|        0.0|                  2|\n",
      "|     31|   45104.0|          1|           0.0|               8.0|             1|        0.2|                  3|\n",
      "|     32|   49478.0|          1|           0.0|              20.0|             1|        0.2|                  0|\n",
      "|     38|   11078.0|          1|           0.0|              30.0|             1|        0.2|                  3|\n",
      "|     41|   19678.0|          1|           0.0|             365.0|             1|        0.2|                  4|\n",
      "|     42|    1263.0|          3|           2.0|15.333333333333334|             1|        0.2|                  7|\n",
      "|     52|   35561.0|          3|           2.0|               8.5|             1|        0.2|                  5|\n",
      "|     58|   43115.0|          1|           0.0|               3.0|             0|        0.0|                 11|\n",
      "|     61|    6187.0|          1|           0.0|             365.0|             1|        0.2|                  3|\n",
      "|     63|   38061.0|          1|           0.0|               2.0|             0|        0.0|                 26|\n",
      "|     71|   41408.0|          6|           5.0|              11.6|             1|        0.2|                  0|\n",
      "|     79|   16616.0|          1|           0.0|             365.0|             0|        0.0|                  4|\n",
      "|     79|   28204.0|          1|           0.0|               7.0|             0|        0.0|                  0|\n",
      "+-------+----------+-----------+--------------+------------------+--------------+-----------+-------------------+\n",
      "only showing top 20 rows\n",
      "\n"
     ]
    }
   ],
   "source": [
    "# features.show()"
   ]
  },
  {
   "cell_type": "markdown",
   "metadata": {},
   "source": [
    "### Rate of user item reorder: # of reorders of an item / # of orders since first time ordering item.\n",
    "Get max(order_num) grouped by user_id, then min(order_num) grouped by user_id and product, subtract the two to get number of orders since first purchase of an item. Then sum(reordered) grouped by item, user to get the number of times an item was reordered by a user"
   ]
  },
  {
   "cell_type": "code",
   "execution_count": 24,
   "metadata": {
    "ExecuteTime": {
     "end_time": "2019-01-18T00:47:47.390249Z",
     "start_time": "2019-01-18T00:47:47.286530Z"
    }
   },
   "outputs": [],
   "source": [
    "reorder_rate = ss.sql(\"select product_id as product_id2, user_id as user_id2, \\\n",
    "        num_reorders/orders_since_first as reorder_rate_wnull from\\\n",
    "        (select distinct product_id, user_id,\\\n",
    "        max(order_num) over (partition by user_id) - min(order_num) over (partition by user_id, product_id) as orders_since_first,\\\n",
    "        sum(reordered) over (partition by user_id, product_id) as num_reorders from\\\n",
    "        (select Instacart.order_id, Instacart.user_id, Instacart.product_id, Instacart.reordered, rhs.order_num\\\n",
    "        from Instacart\\\n",
    "        left join\\\n",
    "        (select order_id, user_id, row_number() over (partition by user_id order by order_id) as order_num from\\\n",
    "        (select distinct order_id, user_id from Instacart where eval_set = 'prior') as iq) as rhs\\\n",
    "        on Instacart.order_id=rhs.order_id and Instacart.user_id=rhs.user_id\\\n",
    "        where eval_set = 'prior') as iq2) as iq3\")\n",
    "\n",
    "features = features.join(reorder_rate, \n",
    "          on=(features.user_id == reorder_rate.user_id2) \n",
    "          & (features.product_id == reorder_rate.product_id2), how=\"left\")\n",
    "\n",
    "features = features.withColumn('reorder_rate', when(col('reorder_rate_wnull').isNull(),0).otherwise(col('reorder_rate_wnull'))) \\\n",
    "                    .drop('reorder_rate_wnull')\n",
    "\n",
    "features = features.drop('user_id2', 'product_id2')"
   ]
  },
  {
   "cell_type": "code",
   "execution_count": 26,
   "metadata": {
    "ExecuteTime": {
     "end_time": "2019-01-18T01:18:03.480999Z",
     "start_time": "2019-01-18T01:07:20.780551Z"
    }
   },
   "outputs": [
    {
     "name": "stdout",
     "output_type": "stream",
     "text": [
      "+-------+----------+-----------+--------------+------------------+--------------+-----------+-------------------+-------------------+\n",
      "|user_id|product_id|usr_prod_ct|sum(reordered)|avg_days_since_ord|num_prod_ordl5|last5_ratio|num_ords_since_last|   reorder_rate_new|\n",
      "+-------+----------+-----------+--------------+------------------+--------------+-----------+-------------------+-------------------+\n",
      "|      7|    8277.0|          3|           2.0|11.666666666666666|             1|        0.2|                  2|0.10526315789473684|\n",
      "|      7|   27156.0|          1|           0.0|               7.0|             1|        0.2|                  4|                0.0|\n",
      "|      7|   40852.0|         13|          12.0| 12.76923076923077|             3|        0.6|                  0|  0.631578947368421|\n",
      "|      8|   34358.0|          2|           1.0|              30.0|             2|        0.4|                  0|                1.0|\n",
      "|     14|   40540.0|          1|           0.0|              30.0|             0|        0.0|                  4|                0.0|\n",
      "|     18|   40723.0|          1|           0.0|             365.0|             0|        0.0|                  2|                0.0|\n",
      "|     27|    5322.0|          1|           0.0|               4.0|             0|        0.0|                 76|                0.0|\n",
      "|     31|   21131.0|          1|           0.0|               6.0|             0|        0.0|                  2|                0.0|\n",
      "|     31|   45104.0|          1|           0.0|               8.0|             1|        0.2|                  3|                0.0|\n",
      "|     32|   49478.0|          1|           0.0|              20.0|             1|        0.2|                  0|                0.0|\n",
      "|     38|   11078.0|          1|           0.0|              30.0|             1|        0.2|                  3|                0.0|\n",
      "|     41|   19678.0|          1|           0.0|             365.0|             1|        0.2|                  4|                0.0|\n",
      "|     42|    1263.0|          3|           2.0|15.333333333333334|             1|        0.2|                  7|                0.2|\n",
      "|     52|   35561.0|          3|           2.0|               8.5|             1|        0.2|                  5|0.15384615384615385|\n",
      "|     58|   43115.0|          1|           0.0|               3.0|             0|        0.0|                 11|                0.0|\n",
      "|     61|    6187.0|          1|           0.0|             365.0|             1|        0.2|                  3|                0.0|\n",
      "|     63|   38061.0|          1|           0.0|               2.0|             0|        0.0|                 26|                0.0|\n",
      "|     71|   41408.0|          6|           5.0|              11.6|             1|        0.2|                  0|               0.25|\n",
      "|     79|   16616.0|          1|           0.0|             365.0|             0|        0.0|                  4|                0.0|\n",
      "|     79|   28204.0|          1|           0.0|               7.0|             0|        0.0|                  0|                0.0|\n",
      "+-------+----------+-----------+--------------+------------------+--------------+-----------+-------------------+-------------------+\n",
      "only showing top 20 rows\n",
      "\n"
     ]
    }
   ],
   "source": [
    "features = features.withColumn('reorder_rate_new', when(col('reorder_rate').isNull(),0).otherwise(col('reorder_rate'))) \\\n",
    "                    .drop('reorder_rate')\n",
    "# features.show()"
   ]
  },
  {
   "cell_type": "code",
   "execution_count": 27,
   "metadata": {
    "ExecuteTime": {
     "end_time": "2019-01-18T01:31:39.825786Z",
     "start_time": "2019-01-18T01:21:15.559527Z"
    }
   },
   "outputs": [
    {
     "data": {
      "text/plain": [
       "13307953"
      ]
     },
     "execution_count": 27,
     "metadata": {},
     "output_type": "execute_result"
    }
   ],
   "source": [
    "features.count()"
   ]
  },
  {
   "cell_type": "code",
   "execution_count": null,
   "metadata": {},
   "outputs": [],
   "source": []
  }
 ],
 "metadata": {
  "kernelspec": {
   "display_name": "Python 3",
   "language": "python",
   "name": "python3"
  },
  "language_info": {
   "codemirror_mode": {
    "name": "ipython",
    "version": 3
   },
   "file_extension": ".py",
   "mimetype": "text/x-python",
   "name": "python",
   "nbconvert_exporter": "python",
   "pygments_lexer": "ipython3",
   "version": "3.6.6"
  }
 },
 "nbformat": 4,
 "nbformat_minor": 2
}
